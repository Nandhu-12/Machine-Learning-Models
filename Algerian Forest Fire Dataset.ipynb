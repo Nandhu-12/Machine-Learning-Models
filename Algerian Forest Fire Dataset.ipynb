{
 "cells": [
  {
   "cell_type": "markdown",
   "id": "6ee07c77",
   "metadata": {},
   "source": [
    "# Algerian Forest Fire Dataset"
   ]
  },
  {
   "cell_type": "code",
   "execution_count": 1,
   "id": "1ccfaa9a",
   "metadata": {},
   "outputs": [],
   "source": [
    "# importing Necessary Libraries\n",
    "import pandas as pd\n",
    "import numpy as np\n",
    "import matplotlib.pyplot as plt\n",
    "%matplotlib inline\n",
    "import seaborn as sns\n",
    "\n",
    "import warnings\n",
    "warnings.filterwarnings('ignore')\n",
    "\n",
    "from sklearn.model_selection import train_test_split\n",
    "from sklearn.preprocessing import StandardScaler\n",
    "from sklearn.linear_model import LogisticRegression\n",
    "from sklearn.metrics import confusion_matrix\n",
    "from sklearn.metrics import accuracy_score\n",
    "from sklearn.metrics import precision_score\n",
    "from sklearn.metrics import recall_score\n",
    "from sklearn.metrics import f1_score\n",
    "from sklearn.metrics import classification_report"
   ]
  },
  {
   "cell_type": "code",
   "execution_count": 2,
   "id": "72b90ed8",
   "metadata": {},
   "outputs": [
    {
     "data": {
      "text/html": [
       "<div>\n",
       "<style scoped>\n",
       "    .dataframe tbody tr th:only-of-type {\n",
       "        vertical-align: middle;\n",
       "    }\n",
       "\n",
       "    .dataframe tbody tr th {\n",
       "        vertical-align: top;\n",
       "    }\n",
       "\n",
       "    .dataframe thead th {\n",
       "        text-align: right;\n",
       "    }\n",
       "</style>\n",
       "<table border=\"1\" class=\"dataframe\">\n",
       "  <thead>\n",
       "    <tr style=\"text-align: right;\">\n",
       "      <th></th>\n",
       "      <th>day</th>\n",
       "      <th>month</th>\n",
       "      <th>year</th>\n",
       "      <th>Temperature</th>\n",
       "      <th>RH</th>\n",
       "      <th>Ws</th>\n",
       "      <th>Rain</th>\n",
       "      <th>FFMC</th>\n",
       "      <th>DMC</th>\n",
       "      <th>DC</th>\n",
       "      <th>ISI</th>\n",
       "      <th>BUI</th>\n",
       "      <th>FWI</th>\n",
       "      <th>Classes</th>\n",
       "    </tr>\n",
       "  </thead>\n",
       "  <tbody>\n",
       "    <tr>\n",
       "      <th>0</th>\n",
       "      <td>1</td>\n",
       "      <td>6</td>\n",
       "      <td>2012</td>\n",
       "      <td>29</td>\n",
       "      <td>57</td>\n",
       "      <td>18</td>\n",
       "      <td>0</td>\n",
       "      <td>65.7</td>\n",
       "      <td>3.4</td>\n",
       "      <td>7.6</td>\n",
       "      <td>1.3</td>\n",
       "      <td>3.4</td>\n",
       "      <td>0.5</td>\n",
       "      <td>not fire</td>\n",
       "    </tr>\n",
       "    <tr>\n",
       "      <th>1</th>\n",
       "      <td>2</td>\n",
       "      <td>6</td>\n",
       "      <td>2012</td>\n",
       "      <td>29</td>\n",
       "      <td>61</td>\n",
       "      <td>13</td>\n",
       "      <td>1.3</td>\n",
       "      <td>64.4</td>\n",
       "      <td>4.1</td>\n",
       "      <td>7.6</td>\n",
       "      <td>1</td>\n",
       "      <td>3.9</td>\n",
       "      <td>0.4</td>\n",
       "      <td>not fire</td>\n",
       "    </tr>\n",
       "    <tr>\n",
       "      <th>2</th>\n",
       "      <td>3</td>\n",
       "      <td>6</td>\n",
       "      <td>2012</td>\n",
       "      <td>26</td>\n",
       "      <td>82</td>\n",
       "      <td>22</td>\n",
       "      <td>13.1</td>\n",
       "      <td>47.1</td>\n",
       "      <td>2.5</td>\n",
       "      <td>7.1</td>\n",
       "      <td>0.3</td>\n",
       "      <td>2.7</td>\n",
       "      <td>0.1</td>\n",
       "      <td>not fire</td>\n",
       "    </tr>\n",
       "    <tr>\n",
       "      <th>3</th>\n",
       "      <td>4</td>\n",
       "      <td>6</td>\n",
       "      <td>2012</td>\n",
       "      <td>25</td>\n",
       "      <td>89</td>\n",
       "      <td>13</td>\n",
       "      <td>2.5</td>\n",
       "      <td>28.6</td>\n",
       "      <td>1.3</td>\n",
       "      <td>6.9</td>\n",
       "      <td>0</td>\n",
       "      <td>1.7</td>\n",
       "      <td>0</td>\n",
       "      <td>not fire</td>\n",
       "    </tr>\n",
       "    <tr>\n",
       "      <th>4</th>\n",
       "      <td>5</td>\n",
       "      <td>6</td>\n",
       "      <td>2012</td>\n",
       "      <td>27</td>\n",
       "      <td>77</td>\n",
       "      <td>16</td>\n",
       "      <td>0</td>\n",
       "      <td>64.8</td>\n",
       "      <td>3</td>\n",
       "      <td>14.2</td>\n",
       "      <td>1.2</td>\n",
       "      <td>3.9</td>\n",
       "      <td>0.5</td>\n",
       "      <td>not fire</td>\n",
       "    </tr>\n",
       "  </tbody>\n",
       "</table>\n",
       "</div>"
      ],
      "text/plain": [
       "  day month  year Temperature  RH  Ws Rain   FFMC  DMC    DC  ISI  BUI  FWI  \\\n",
       "0   1     6  2012          29  57  18     0  65.7  3.4   7.6  1.3  3.4  0.5   \n",
       "1   2     6  2012          29  61  13   1.3  64.4  4.1   7.6    1  3.9  0.4   \n",
       "2   3     6  2012          26  82  22  13.1  47.1  2.5   7.1  0.3  2.7  0.1   \n",
       "3   4     6  2012          25  89  13   2.5  28.6  1.3   6.9    0  1.7    0   \n",
       "4   5     6  2012          27  77  16     0  64.8    3  14.2  1.2  3.9  0.5   \n",
       "\n",
       "     Classes    \n",
       "0  not fire     \n",
       "1  not fire     \n",
       "2  not fire     \n",
       "3  not fire     \n",
       "4  not fire     "
      ]
     },
     "execution_count": 2,
     "metadata": {},
     "output_type": "execute_result"
    }
   ],
   "source": [
    "# Reading the dataset\n",
    "dataset = pd.read_csv('Algerian_forest_fires_dataset.csv')\n",
    "dataset.head()"
   ]
  },
  {
   "cell_type": "code",
   "execution_count": 3,
   "id": "82a96653",
   "metadata": {},
   "outputs": [
    {
     "data": {
      "text/plain": [
       "(247, 14)"
      ]
     },
     "execution_count": 3,
     "metadata": {},
     "output_type": "execute_result"
    }
   ],
   "source": [
    "# finding the shape of the dataset\n",
    "dataset.shape"
   ]
  },
  {
   "cell_type": "markdown",
   "id": "daac5904",
   "metadata": {},
   "source": [
    "OBSERVATIONS: It seems like it is a very small dataset with 247 rows and 14 columns.                                             \n",
    "              In this dataset we have 2 regions namely Bejaia has 122 records and Sidi Bel-abbes has 122 records"
   ]
  },
  {
   "cell_type": "markdown",
   "id": "4ce41052",
   "metadata": {},
   "source": [
    "# Exploratory Data Analysis"
   ]
  },
  {
   "cell_type": "code",
   "execution_count": 4,
   "id": "c5753996",
   "metadata": {},
   "outputs": [
    {
     "data": {
      "text/plain": [
       "day            1\n",
       "month          2\n",
       "year           2\n",
       "Temperature    2\n",
       " RH            2\n",
       " Ws            2\n",
       "Rain           2\n",
       "FFMC           2\n",
       "DMC            2\n",
       "DC             2\n",
       "ISI            2\n",
       "BUI            2\n",
       "FWI            2\n",
       "Classes        3\n",
       "dtype: int64"
      ]
     },
     "execution_count": 4,
     "metadata": {},
     "output_type": "execute_result"
    }
   ],
   "source": [
    "dataset.isnull().sum()"
   ]
  },
  {
   "cell_type": "code",
   "execution_count": 5,
   "id": "46e94d90",
   "metadata": {},
   "outputs": [
    {
     "data": {
      "text/html": [
       "<div>\n",
       "<style scoped>\n",
       "    .dataframe tbody tr th:only-of-type {\n",
       "        vertical-align: middle;\n",
       "    }\n",
       "\n",
       "    .dataframe tbody tr th {\n",
       "        vertical-align: top;\n",
       "    }\n",
       "\n",
       "    .dataframe thead th {\n",
       "        text-align: right;\n",
       "    }\n",
       "</style>\n",
       "<table border=\"1\" class=\"dataframe\">\n",
       "  <thead>\n",
       "    <tr style=\"text-align: right;\">\n",
       "      <th></th>\n",
       "      <th>day</th>\n",
       "      <th>month</th>\n",
       "      <th>year</th>\n",
       "      <th>Temperature</th>\n",
       "      <th>RH</th>\n",
       "      <th>Ws</th>\n",
       "      <th>Rain</th>\n",
       "      <th>FFMC</th>\n",
       "      <th>DMC</th>\n",
       "      <th>DC</th>\n",
       "      <th>ISI</th>\n",
       "      <th>BUI</th>\n",
       "      <th>FWI</th>\n",
       "      <th>Classes</th>\n",
       "    </tr>\n",
       "  </thead>\n",
       "  <tbody>\n",
       "    <tr>\n",
       "      <th>122</th>\n",
       "      <td>NaN</td>\n",
       "      <td>NaN</td>\n",
       "      <td>NaN</td>\n",
       "      <td>NaN</td>\n",
       "      <td>NaN</td>\n",
       "      <td>NaN</td>\n",
       "      <td>NaN</td>\n",
       "      <td>NaN</td>\n",
       "      <td>NaN</td>\n",
       "      <td>NaN</td>\n",
       "      <td>NaN</td>\n",
       "      <td>NaN</td>\n",
       "      <td>NaN</td>\n",
       "      <td>NaN</td>\n",
       "    </tr>\n",
       "    <tr>\n",
       "      <th>123</th>\n",
       "      <td>Sidi-Bel Abbes Region Dataset</td>\n",
       "      <td>NaN</td>\n",
       "      <td>NaN</td>\n",
       "      <td>NaN</td>\n",
       "      <td>NaN</td>\n",
       "      <td>NaN</td>\n",
       "      <td>NaN</td>\n",
       "      <td>NaN</td>\n",
       "      <td>NaN</td>\n",
       "      <td>NaN</td>\n",
       "      <td>NaN</td>\n",
       "      <td>NaN</td>\n",
       "      <td>NaN</td>\n",
       "      <td>NaN</td>\n",
       "    </tr>\n",
       "    <tr>\n",
       "      <th>168</th>\n",
       "      <td>14</td>\n",
       "      <td>7</td>\n",
       "      <td>2012</td>\n",
       "      <td>37</td>\n",
       "      <td>37</td>\n",
       "      <td>18</td>\n",
       "      <td>0.2</td>\n",
       "      <td>88.9</td>\n",
       "      <td>12.9</td>\n",
       "      <td>14.6 9</td>\n",
       "      <td>12.5</td>\n",
       "      <td>10.4</td>\n",
       "      <td>fire</td>\n",
       "      <td>NaN</td>\n",
       "    </tr>\n",
       "  </tbody>\n",
       "</table>\n",
       "</div>"
      ],
      "text/plain": [
       "                               day month  year Temperature   RH   Ws Rain   \\\n",
       "122                            NaN   NaN   NaN         NaN  NaN  NaN   NaN   \n",
       "123  Sidi-Bel Abbes Region Dataset   NaN   NaN         NaN  NaN  NaN   NaN   \n",
       "168                             14     7  2012          37   37   18   0.2   \n",
       "\n",
       "     FFMC   DMC      DC   ISI   BUI      FWI Classes    \n",
       "122   NaN   NaN     NaN   NaN   NaN      NaN       NaN  \n",
       "123   NaN   NaN     NaN   NaN   NaN      NaN       NaN  \n",
       "168  88.9  12.9  14.6 9  12.5  10.4  fire          NaN  "
      ]
     },
     "execution_count": 5,
     "metadata": {},
     "output_type": "execute_result"
    }
   ],
   "source": [
    "dataset[dataset.isnull().any(axis=1)]"
   ]
  },
  {
   "cell_type": "code",
   "execution_count": 6,
   "id": "dec15a3e",
   "metadata": {},
   "outputs": [
    {
     "data": {
      "text/html": [
       "<div>\n",
       "<style scoped>\n",
       "    .dataframe tbody tr th:only-of-type {\n",
       "        vertical-align: middle;\n",
       "    }\n",
       "\n",
       "    .dataframe tbody tr th {\n",
       "        vertical-align: top;\n",
       "    }\n",
       "\n",
       "    .dataframe thead th {\n",
       "        text-align: right;\n",
       "    }\n",
       "</style>\n",
       "<table border=\"1\" class=\"dataframe\">\n",
       "  <thead>\n",
       "    <tr style=\"text-align: right;\">\n",
       "      <th></th>\n",
       "      <th>day</th>\n",
       "      <th>month</th>\n",
       "      <th>year</th>\n",
       "      <th>Temperature</th>\n",
       "      <th>RH</th>\n",
       "      <th>Ws</th>\n",
       "      <th>Rain</th>\n",
       "      <th>FFMC</th>\n",
       "      <th>DMC</th>\n",
       "      <th>DC</th>\n",
       "      <th>ISI</th>\n",
       "      <th>BUI</th>\n",
       "      <th>FWI</th>\n",
       "      <th>Classes</th>\n",
       "    </tr>\n",
       "  </thead>\n",
       "  <tbody>\n",
       "    <tr>\n",
       "      <th>122</th>\n",
       "      <td>NaN</td>\n",
       "      <td>NaN</td>\n",
       "      <td>NaN</td>\n",
       "      <td>NaN</td>\n",
       "      <td>NaN</td>\n",
       "      <td>NaN</td>\n",
       "      <td>NaN</td>\n",
       "      <td>NaN</td>\n",
       "      <td>NaN</td>\n",
       "      <td>NaN</td>\n",
       "      <td>NaN</td>\n",
       "      <td>NaN</td>\n",
       "      <td>NaN</td>\n",
       "      <td>NaN</td>\n",
       "    </tr>\n",
       "  </tbody>\n",
       "</table>\n",
       "</div>"
      ],
      "text/plain": [
       "     day month year Temperature   RH   Ws Rain  FFMC  DMC   DC  ISI  BUI  FWI  \\\n",
       "122  NaN   NaN  NaN         NaN  NaN  NaN   NaN  NaN  NaN  NaN  NaN  NaN  NaN   \n",
       "\n",
       "    Classes    \n",
       "122       NaN  "
      ]
     },
     "execution_count": 6,
     "metadata": {},
     "output_type": "execute_result"
    }
   ],
   "source": [
    "dataset[dataset.isnull().all(axis='columns')]"
   ]
  },
  {
   "cell_type": "markdown",
   "id": "16ce3be9",
   "metadata": {},
   "source": [
    "OBSERVATIONS: here we have the data for sidi-Bel Abbes Region from row 123 so we can create a new column region"
   ]
  },
  {
   "cell_type": "code",
   "execution_count": 7,
   "id": "f5c8b12a",
   "metadata": {},
   "outputs": [],
   "source": [
    "# creating a new column for region\n",
    "dataset.loc[:122 ,'Region'] = 0\n",
    "dataset.loc[123: ,'Region'] = 1\n",
    "\n",
    "# droping NAN rows\n",
    "dataset = dataset.dropna().reset_index(drop = True)"
   ]
  },
  {
   "cell_type": "markdown",
   "id": "96257b94",
   "metadata": {},
   "source": [
    "OBSERVATIONS : Now we have replaced Bejaia = 0 and sidi-Bel Abbes Region = 1"
   ]
  },
  {
   "cell_type": "code",
   "execution_count": 8,
   "id": "5b9e9375",
   "metadata": {},
   "outputs": [
    {
     "data": {
      "text/plain": [
       "(244, 15)"
      ]
     },
     "execution_count": 8,
     "metadata": {},
     "output_type": "execute_result"
    }
   ],
   "source": [
    "dataset.shape"
   ]
  },
  {
   "cell_type": "code",
   "execution_count": 9,
   "id": "622fa6d8",
   "metadata": {},
   "outputs": [
    {
     "data": {
      "text/html": [
       "<div>\n",
       "<style scoped>\n",
       "    .dataframe tbody tr th:only-of-type {\n",
       "        vertical-align: middle;\n",
       "    }\n",
       "\n",
       "    .dataframe tbody tr th {\n",
       "        vertical-align: top;\n",
       "    }\n",
       "\n",
       "    .dataframe thead th {\n",
       "        text-align: right;\n",
       "    }\n",
       "</style>\n",
       "<table border=\"1\" class=\"dataframe\">\n",
       "  <thead>\n",
       "    <tr style=\"text-align: right;\">\n",
       "      <th></th>\n",
       "      <th>day</th>\n",
       "      <th>month</th>\n",
       "      <th>year</th>\n",
       "      <th>Temperature</th>\n",
       "      <th>RH</th>\n",
       "      <th>Ws</th>\n",
       "      <th>Rain</th>\n",
       "      <th>FFMC</th>\n",
       "      <th>DMC</th>\n",
       "      <th>DC</th>\n",
       "      <th>ISI</th>\n",
       "      <th>BUI</th>\n",
       "      <th>FWI</th>\n",
       "      <th>Classes</th>\n",
       "      <th>Region</th>\n",
       "    </tr>\n",
       "  </thead>\n",
       "  <tbody>\n",
       "    <tr>\n",
       "      <th>122</th>\n",
       "      <td>day</td>\n",
       "      <td>month</td>\n",
       "      <td>year</td>\n",
       "      <td>Temperature</td>\n",
       "      <td>RH</td>\n",
       "      <td>Ws</td>\n",
       "      <td>Rain</td>\n",
       "      <td>FFMC</td>\n",
       "      <td>DMC</td>\n",
       "      <td>DC</td>\n",
       "      <td>ISI</td>\n",
       "      <td>BUI</td>\n",
       "      <td>FWI</td>\n",
       "      <td>Classes</td>\n",
       "      <td>1.0</td>\n",
       "    </tr>\n",
       "  </tbody>\n",
       "</table>\n",
       "</div>"
      ],
      "text/plain": [
       "     day  month  year  Temperature   RH   Ws  Rain   FFMC  DMC  DC  ISI  BUI  \\\n",
       "122  day  month  year  Temperature   RH   Ws  Rain   FFMC  DMC  DC  ISI  BUI   \n",
       "\n",
       "     FWI  Classes    Region  \n",
       "122  FWI  Classes       1.0  "
      ]
     },
     "execution_count": 9,
     "metadata": {},
     "output_type": "execute_result"
    }
   ],
   "source": [
    "dataset.loc[[122]]"
   ]
  },
  {
   "cell_type": "code",
   "execution_count": 10,
   "id": "94b66424",
   "metadata": {},
   "outputs": [],
   "source": [
    "# dropping index 122\n",
    "dataset = dataset.drop(122).reset_index(drop = True)"
   ]
  },
  {
   "cell_type": "code",
   "execution_count": 11,
   "id": "b5b62ffa",
   "metadata": {},
   "outputs": [
    {
     "data": {
      "text/plain": [
       "(243, 15)"
      ]
     },
     "execution_count": 11,
     "metadata": {},
     "output_type": "execute_result"
    }
   ],
   "source": [
    "dataset.shape"
   ]
  },
  {
   "cell_type": "markdown",
   "id": "d84636b7",
   "metadata": {},
   "source": [
    "OBSERVATIONS : Now we have 243 rows and 15 columns"
   ]
  },
  {
   "cell_type": "code",
   "execution_count": 12,
   "id": "484ab4b3",
   "metadata": {},
   "outputs": [],
   "source": [
    "# Copying the dataset\n",
    "df = dataset.copy()"
   ]
  },
  {
   "cell_type": "code",
   "execution_count": 13,
   "id": "ed2c6840",
   "metadata": {},
   "outputs": [
    {
     "data": {
      "text/html": [
       "<div>\n",
       "<style scoped>\n",
       "    .dataframe tbody tr th:only-of-type {\n",
       "        vertical-align: middle;\n",
       "    }\n",
       "\n",
       "    .dataframe tbody tr th {\n",
       "        vertical-align: top;\n",
       "    }\n",
       "\n",
       "    .dataframe thead th {\n",
       "        text-align: right;\n",
       "    }\n",
       "</style>\n",
       "<table border=\"1\" class=\"dataframe\">\n",
       "  <thead>\n",
       "    <tr style=\"text-align: right;\">\n",
       "      <th></th>\n",
       "      <th>day</th>\n",
       "      <th>month</th>\n",
       "      <th>year</th>\n",
       "      <th>Temperature</th>\n",
       "      <th>RH</th>\n",
       "      <th>Ws</th>\n",
       "      <th>Rain</th>\n",
       "      <th>FFMC</th>\n",
       "      <th>DMC</th>\n",
       "      <th>DC</th>\n",
       "      <th>ISI</th>\n",
       "      <th>BUI</th>\n",
       "      <th>FWI</th>\n",
       "      <th>Classes</th>\n",
       "      <th>Region</th>\n",
       "    </tr>\n",
       "  </thead>\n",
       "  <tbody>\n",
       "    <tr>\n",
       "      <th>0</th>\n",
       "      <td>1</td>\n",
       "      <td>6</td>\n",
       "      <td>2012</td>\n",
       "      <td>29</td>\n",
       "      <td>57</td>\n",
       "      <td>18</td>\n",
       "      <td>0</td>\n",
       "      <td>65.7</td>\n",
       "      <td>3.4</td>\n",
       "      <td>7.6</td>\n",
       "      <td>1.3</td>\n",
       "      <td>3.4</td>\n",
       "      <td>0.5</td>\n",
       "      <td>not fire</td>\n",
       "      <td>0.0</td>\n",
       "    </tr>\n",
       "    <tr>\n",
       "      <th>1</th>\n",
       "      <td>2</td>\n",
       "      <td>6</td>\n",
       "      <td>2012</td>\n",
       "      <td>29</td>\n",
       "      <td>61</td>\n",
       "      <td>13</td>\n",
       "      <td>1.3</td>\n",
       "      <td>64.4</td>\n",
       "      <td>4.1</td>\n",
       "      <td>7.6</td>\n",
       "      <td>1</td>\n",
       "      <td>3.9</td>\n",
       "      <td>0.4</td>\n",
       "      <td>not fire</td>\n",
       "      <td>0.0</td>\n",
       "    </tr>\n",
       "    <tr>\n",
       "      <th>2</th>\n",
       "      <td>3</td>\n",
       "      <td>6</td>\n",
       "      <td>2012</td>\n",
       "      <td>26</td>\n",
       "      <td>82</td>\n",
       "      <td>22</td>\n",
       "      <td>13.1</td>\n",
       "      <td>47.1</td>\n",
       "      <td>2.5</td>\n",
       "      <td>7.1</td>\n",
       "      <td>0.3</td>\n",
       "      <td>2.7</td>\n",
       "      <td>0.1</td>\n",
       "      <td>not fire</td>\n",
       "      <td>0.0</td>\n",
       "    </tr>\n",
       "    <tr>\n",
       "      <th>3</th>\n",
       "      <td>4</td>\n",
       "      <td>6</td>\n",
       "      <td>2012</td>\n",
       "      <td>25</td>\n",
       "      <td>89</td>\n",
       "      <td>13</td>\n",
       "      <td>2.5</td>\n",
       "      <td>28.6</td>\n",
       "      <td>1.3</td>\n",
       "      <td>6.9</td>\n",
       "      <td>0</td>\n",
       "      <td>1.7</td>\n",
       "      <td>0</td>\n",
       "      <td>not fire</td>\n",
       "      <td>0.0</td>\n",
       "    </tr>\n",
       "    <tr>\n",
       "      <th>4</th>\n",
       "      <td>5</td>\n",
       "      <td>6</td>\n",
       "      <td>2012</td>\n",
       "      <td>27</td>\n",
       "      <td>77</td>\n",
       "      <td>16</td>\n",
       "      <td>0</td>\n",
       "      <td>64.8</td>\n",
       "      <td>3</td>\n",
       "      <td>14.2</td>\n",
       "      <td>1.2</td>\n",
       "      <td>3.9</td>\n",
       "      <td>0.5</td>\n",
       "      <td>not fire</td>\n",
       "      <td>0.0</td>\n",
       "    </tr>\n",
       "  </tbody>\n",
       "</table>\n",
       "</div>"
      ],
      "text/plain": [
       "  day month  year Temperature  RH  Ws Rain   FFMC  DMC    DC  ISI  BUI  FWI  \\\n",
       "0   1     6  2012          29  57  18     0  65.7  3.4   7.6  1.3  3.4  0.5   \n",
       "1   2     6  2012          29  61  13   1.3  64.4  4.1   7.6    1  3.9  0.4   \n",
       "2   3     6  2012          26  82  22  13.1  47.1  2.5   7.1  0.3  2.7  0.1   \n",
       "3   4     6  2012          25  89  13   2.5  28.6  1.3   6.9    0  1.7    0   \n",
       "4   5     6  2012          27  77  16     0  64.8    3  14.2  1.2  3.9  0.5   \n",
       "\n",
       "     Classes    Region  \n",
       "0  not fire        0.0  \n",
       "1  not fire        0.0  \n",
       "2  not fire        0.0  \n",
       "3  not fire        0.0  \n",
       "4  not fire        0.0  "
      ]
     },
     "execution_count": 13,
     "metadata": {},
     "output_type": "execute_result"
    }
   ],
   "source": [
    "df.head()"
   ]
  },
  {
   "cell_type": "code",
   "execution_count": 14,
   "id": "15368699",
   "metadata": {},
   "outputs": [
    {
     "data": {
      "text/plain": [
       "day            0\n",
       "month          0\n",
       "year           0\n",
       "Temperature    0\n",
       " RH            0\n",
       " Ws            0\n",
       "Rain           0\n",
       "FFMC           0\n",
       "DMC            0\n",
       "DC             0\n",
       "ISI            0\n",
       "BUI            0\n",
       "FWI            0\n",
       "Classes        0\n",
       "Region         0\n",
       "dtype: int64"
      ]
     },
     "execution_count": 14,
     "metadata": {},
     "output_type": "execute_result"
    }
   ],
   "source": [
    "#checking null values\n",
    "df.isnull().sum()"
   ]
  },
  {
   "cell_type": "markdown",
   "id": "ed55c51c",
   "metadata": {},
   "source": [
    "OBSERVATIONS : There is no Null values"
   ]
  },
  {
   "cell_type": "code",
   "execution_count": 15,
   "id": "b2a56f69",
   "metadata": {},
   "outputs": [
    {
     "name": "stdout",
     "output_type": "stream",
     "text": [
      "<class 'pandas.core.frame.DataFrame'>\n",
      "RangeIndex: 243 entries, 0 to 242\n",
      "Data columns (total 15 columns):\n",
      " #   Column       Non-Null Count  Dtype  \n",
      "---  ------       --------------  -----  \n",
      " 0   day          243 non-null    object \n",
      " 1   month        243 non-null    object \n",
      " 2   year         243 non-null    object \n",
      " 3   Temperature  243 non-null    object \n",
      " 4    RH          243 non-null    object \n",
      " 5    Ws          243 non-null    object \n",
      " 6   Rain         243 non-null    object \n",
      " 7   FFMC         243 non-null    object \n",
      " 8   DMC          243 non-null    object \n",
      " 9   DC           243 non-null    object \n",
      " 10  ISI          243 non-null    object \n",
      " 11  BUI          243 non-null    object \n",
      " 12  FWI          243 non-null    object \n",
      " 13  Classes      243 non-null    object \n",
      " 14  Region       243 non-null    float64\n",
      "dtypes: float64(1), object(14)\n",
      "memory usage: 28.6+ KB\n"
     ]
    }
   ],
   "source": [
    "# checking datatypes\n",
    "df.info()"
   ]
  },
  {
   "cell_type": "markdown",
   "id": "6a82547c",
   "metadata": {},
   "source": [
    "OBSERVATIONS : There are 14 categorical and 1 numerical features"
   ]
  },
  {
   "cell_type": "code",
   "execution_count": 16,
   "id": "d45ba4e4",
   "metadata": {},
   "outputs": [
    {
     "data": {
      "text/plain": [
       "Index(['day', 'month', 'year', 'Temperature', ' RH', ' Ws', 'Rain ', 'FFMC',\n",
       "       'DMC', 'DC', 'ISI', 'BUI', 'FWI', 'Classes  ', 'Region'],\n",
       "      dtype='object')"
      ]
     },
     "execution_count": 16,
     "metadata": {},
     "output_type": "execute_result"
    }
   ],
   "source": [
    "df.columns"
   ]
  },
  {
   "cell_type": "markdown",
   "id": "3df11202",
   "metadata": {},
   "source": [
    "OBSERVATIONS : As we have spaces in column names we can strip it"
   ]
  },
  {
   "cell_type": "code",
   "execution_count": 17,
   "id": "f03c9d4f",
   "metadata": {},
   "outputs": [],
   "source": [
    "df.columns = df.columns.str.strip()"
   ]
  },
  {
   "cell_type": "code",
   "execution_count": 18,
   "id": "0d552a06",
   "metadata": {},
   "outputs": [
    {
     "data": {
      "text/plain": [
       "Index(['day', 'month', 'year', 'Temperature', 'RH', 'Ws', 'Rain', 'FFMC',\n",
       "       'DMC', 'DC', 'ISI', 'BUI', 'FWI', 'Classes', 'Region'],\n",
       "      dtype='object')"
      ]
     },
     "execution_count": 18,
     "metadata": {},
     "output_type": "execute_result"
    }
   ],
   "source": [
    "df.columns"
   ]
  },
  {
   "cell_type": "code",
   "execution_count": 19,
   "id": "f2f06315",
   "metadata": {},
   "outputs": [
    {
     "data": {
      "text/plain": [
       "array(['not fire   ', 'fire   ', 'fire', 'fire ', 'not fire', 'not fire ',\n",
       "       'not fire     ', 'not fire    '], dtype=object)"
      ]
     },
     "execution_count": 19,
     "metadata": {},
     "output_type": "execute_result"
    }
   ],
   "source": [
    "df['Classes'].unique()"
   ]
  },
  {
   "cell_type": "code",
   "execution_count": 20,
   "id": "5d8211b2",
   "metadata": {},
   "outputs": [
    {
     "data": {
      "text/plain": [
       "<AxesSubplot:xlabel='Classes', ylabel='count'>"
      ]
     },
     "execution_count": 20,
     "metadata": {},
     "output_type": "execute_result"
    },
    {
     "data": {
      "image/png": "[encoded data removed]",
      "text/plain": [
       "<Figure size 432x288 with 1 Axes>"
      ]
     },
     "metadata": {
      "needs_background": "light"
     },
     "output_type": "display_data"
    }
   ],
   "source": [
    "# Univariate Analysis\n",
    "sns.countplot(data = df, x = 'Classes')"
   ]
  },
  {
   "cell_type": "markdown",
   "id": "e8bfec45",
   "metadata": {},
   "source": [
    "OBSERVATIONS : we have to strip the target column as well"
   ]
  },
  {
   "cell_type": "code",
   "execution_count": 21,
   "id": "6f179790",
   "metadata": {},
   "outputs": [],
   "source": [
    "df['Classes'] = df['Classes'].str.strip()"
   ]
  },
  {
   "cell_type": "code",
   "execution_count": 22,
   "id": "0c684479",
   "metadata": {},
   "outputs": [
    {
     "data": {
      "text/plain": [
       "array(['not fire', 'fire'], dtype=object)"
      ]
     },
     "execution_count": 22,
     "metadata": {},
     "output_type": "execute_result"
    }
   ],
   "source": [
    "df['Classes'].unique()"
   ]
  },
  {
   "cell_type": "markdown",
   "id": "de5ca427",
   "metadata": {},
   "source": [
    "OBSERVATIONS : Now we got 2 unique values in the Target Feature, 'Fire' and 'Not Fire'"
   ]
  },
  {
   "cell_type": "code",
   "execution_count": 23,
   "id": "2c8f5264",
   "metadata": {},
   "outputs": [
    {
     "data": {
      "text/plain": [
       "<AxesSubplot:xlabel='Classes', ylabel='count'>"
      ]
     },
     "execution_count": 23,
     "metadata": {},
     "output_type": "execute_result"
    },
    {
     "data": {
      "image/png": "[encoded data removed]",
      "text/plain": [
       "<Figure size 432x288 with 1 Axes>"
      ]
     },
     "metadata": {
      "needs_background": "light"
     },
     "output_type": "display_data"
    }
   ],
   "source": [
    "# Univariate Analysis\n",
    "sns.countplot(data = df, x = 'Classes')"
   ]
  },
  {
   "cell_type": "markdown",
   "id": "0fa9d14b",
   "metadata": {},
   "source": [
    "OBSERVATIONS : We can clearly see that the area fired is larger than the area not fired"
   ]
  },
  {
   "cell_type": "code",
   "execution_count": 24,
   "id": "b5b2c7ca",
   "metadata": {},
   "outputs": [
    {
     "data": {
      "text/plain": [
       "<AxesSubplot:xlabel='Region', ylabel='count'>"
      ]
     },
     "execution_count": 24,
     "metadata": {},
     "output_type": "execute_result"
    },
    {
     "data": {
      "image/png": "[encoded data removed]",
      "text/plain": [
       "<Figure size 432x288 with 1 Axes>"
      ]
     },
     "metadata": {
      "needs_background": "light"
     },
     "output_type": "display_data"
    }
   ],
   "source": [
    "sns.countplot(data = df, x = 'Region', hue = 'Classes')"
   ]
  },
  {
   "cell_type": "markdown",
   "id": "243eab66",
   "metadata": {},
   "source": [
    "OBSERVATIONS : We can clearly see that the area fired in sidi-Bel Abbes Region is very high"
   ]
  },
  {
   "cell_type": "code",
   "execution_count": 25,
   "id": "dd2c3393",
   "metadata": {},
   "outputs": [
    {
     "data": {
      "text/plain": [
       "<AxesSubplot:xlabel='month', ylabel='count'>"
      ]
     },
     "execution_count": 25,
     "metadata": {},
     "output_type": "execute_result"
    },
    {
     "data": {
      "image/png": "[encoded data removed]",
      "text/plain": [
       "<Figure size 432x288 with 1 Axes>"
      ]
     },
     "metadata": {
      "needs_background": "light"
     },
     "output_type": "display_data"
    }
   ],
   "source": [
    "sns.countplot(data = df, x = 'month', hue = 'Classes')"
   ]
  },
  {
   "cell_type": "markdown",
   "id": "243156e9",
   "metadata": {},
   "source": [
    "OBSERVATIONS : We can see that the fire got spread high in the month of August"
   ]
  },
  {
   "cell_type": "code",
   "execution_count": 26,
   "id": "9f79a90a",
   "metadata": {},
   "outputs": [
    {
     "data": {
      "text/plain": [
       "<AxesSubplot:xlabel='month', ylabel='count'>"
      ]
     },
     "execution_count": 26,
     "metadata": {},
     "output_type": "execute_result"
    },
    {
     "data": {
      "image/png": "[encoded data removed]",
      "text/plain": [
       "<Figure size 432x288 with 1 Axes>"
      ]
     },
     "metadata": {
      "needs_background": "light"
     },
     "output_type": "display_data"
    }
   ],
   "source": [
    "sns.countplot(data = df, x = 'month', hue = 'Temperature')"
   ]
  },
  {
   "cell_type": "markdown",
   "id": "c1fbbcf6",
   "metadata": {},
   "source": [
    "OBSERVATIONS : The Highest number of times the hot temperature sustained in the month of August"
   ]
  },
  {
   "cell_type": "code",
   "execution_count": 27,
   "id": "550851fc",
   "metadata": {},
   "outputs": [
    {
     "data": {
      "text/plain": [
       "<AxesSubplot:xlabel='Temperature', ylabel='count'>"
      ]
     },
     "execution_count": 27,
     "metadata": {},
     "output_type": "execute_result"
    },
    {
     "data": {
      "image/png": "[encoded data removed]",
      "text/plain": [
       "<Figure size 1440x360 with 1 Axes>"
      ]
     },
     "metadata": {
      "needs_background": "light"
     },
     "output_type": "display_data"
    }
   ],
   "source": [
    "# Visualizing whether the temperature could also be a reason for fire or not\n",
    "plt.figure(figsize=(20,5))\n",
    "sns.countplot(x = 'Temperature',data = df,hue = 'Classes')"
   ]
  },
  {
   "cell_type": "markdown",
   "id": "4b7e8794",
   "metadata": {},
   "source": [
    "OBSERVATIONS : It seems that the fire got increased when the temperature raised"
   ]
  },
  {
   "cell_type": "code",
   "execution_count": 28,
   "id": "5b6e99b6",
   "metadata": {},
   "outputs": [
    {
     "data": {
      "text/plain": [
       "array(['2012'], dtype=object)"
      ]
     },
     "execution_count": 28,
     "metadata": {},
     "output_type": "execute_result"
    }
   ],
   "source": [
    "df['year'].unique()"
   ]
  },
  {
   "cell_type": "code",
   "execution_count": 29,
   "id": "95fecb6b",
   "metadata": {},
   "outputs": [
    {
     "data": {
      "text/plain": [
       "(243, 15)"
      ]
     },
     "execution_count": 29,
     "metadata": {},
     "output_type": "execute_result"
    }
   ],
   "source": [
    "df.shape"
   ]
  },
  {
   "cell_type": "code",
   "execution_count": 30,
   "id": "27f197af",
   "metadata": {},
   "outputs": [],
   "source": [
    "#Encoding Target feature\n",
    "df['Classes'] = np.where(df['Classes'] == 'not fire' ,0,1)"
   ]
  },
  {
   "cell_type": "markdown",
   "id": "baa1caa0",
   "metadata": {},
   "source": [
    "OBERVATIONS : Encoding 'not fire' = 0 and 'fire' = 1"
   ]
  },
  {
   "cell_type": "code",
   "execution_count": 31,
   "id": "23d5a0a1",
   "metadata": {},
   "outputs": [
    {
     "data": {
      "text/plain": [
       "1    137\n",
       "0    106\n",
       "Name: Classes, dtype: int64"
      ]
     },
     "execution_count": 31,
     "metadata": {},
     "output_type": "execute_result"
    }
   ],
   "source": [
    "# checking Data is balanced or not\n",
    "df['Classes'].value_counts()"
   ]
  },
  {
   "cell_type": "markdown",
   "id": "9c49195a",
   "metadata": {},
   "source": [
    "# Splitting data into train and test"
   ]
  },
  {
   "cell_type": "code",
   "execution_count": 32,
   "id": "e1083e9f",
   "metadata": {},
   "outputs": [],
   "source": [
    "X = df.drop(columns = ['Classes'])\n",
    "y = df['Classes']"
   ]
  },
  {
   "cell_type": "code",
   "execution_count": 33,
   "id": "f43d4960",
   "metadata": {},
   "outputs": [],
   "source": [
    "X_train, X_test, y_train, y_test = train_test_split(X, y, random_state=5, test_size=0.3)"
   ]
  },
  {
   "cell_type": "code",
   "execution_count": 34,
   "id": "20c217e5",
   "metadata": {},
   "outputs": [
    {
     "data": {
      "text/plain": [
       "(170, 14)"
      ]
     },
     "execution_count": 34,
     "metadata": {},
     "output_type": "execute_result"
    }
   ],
   "source": [
    "X_train.shape"
   ]
  },
  {
   "cell_type": "code",
   "execution_count": 35,
   "id": "c5c3df5b",
   "metadata": {},
   "outputs": [
    {
     "data": {
      "text/plain": [
       "(170,)"
      ]
     },
     "execution_count": 35,
     "metadata": {},
     "output_type": "execute_result"
    }
   ],
   "source": [
    "y_train.shape"
   ]
  },
  {
   "cell_type": "code",
   "execution_count": 36,
   "id": "aa485d1b",
   "metadata": {},
   "outputs": [
    {
     "data": {
      "text/plain": [
       "(73, 14)"
      ]
     },
     "execution_count": 36,
     "metadata": {},
     "output_type": "execute_result"
    }
   ],
   "source": [
    "X_test.shape"
   ]
  },
  {
   "cell_type": "code",
   "execution_count": 37,
   "id": "c9ca1cde",
   "metadata": {},
   "outputs": [
    {
     "data": {
      "text/plain": [
       "(73,)"
      ]
     },
     "execution_count": 37,
     "metadata": {},
     "output_type": "execute_result"
    }
   ],
   "source": [
    "y_test.shape"
   ]
  },
  {
   "cell_type": "markdown",
   "id": "7a002888",
   "metadata": {},
   "source": [
    "# Data Preprocessing on Train and Test data"
   ]
  },
  {
   "cell_type": "code",
   "execution_count": 38,
   "id": "d6128a50",
   "metadata": {},
   "outputs": [
    {
     "data": {
      "text/plain": [
       "day            0\n",
       "month          0\n",
       "year           0\n",
       "Temperature    0\n",
       "RH             0\n",
       "Ws             0\n",
       "Rain           0\n",
       "FFMC           0\n",
       "DMC            0\n",
       "DC             0\n",
       "ISI            0\n",
       "BUI            0\n",
       "FWI            0\n",
       "Region         0\n",
       "dtype: int64"
      ]
     },
     "execution_count": 38,
     "metadata": {},
     "output_type": "execute_result"
    }
   ],
   "source": [
    "X_train.isnull().sum()"
   ]
  },
  {
   "cell_type": "code",
   "execution_count": 39,
   "id": "a7a48ee2",
   "metadata": {},
   "outputs": [
    {
     "data": {
      "text/plain": [
       "day            0\n",
       "month          0\n",
       "year           0\n",
       "Temperature    0\n",
       "RH             0\n",
       "Ws             0\n",
       "Rain           0\n",
       "FFMC           0\n",
       "DMC            0\n",
       "DC             0\n",
       "ISI            0\n",
       "BUI            0\n",
       "FWI            0\n",
       "Region         0\n",
       "dtype: int64"
      ]
     },
     "execution_count": 39,
     "metadata": {},
     "output_type": "execute_result"
    }
   ],
   "source": [
    "X_test.isnull().sum()"
   ]
  },
  {
   "cell_type": "markdown",
   "id": "0faa92d4",
   "metadata": {},
   "source": [
    "OBSERVATIONS : There is no null values in train and test data"
   ]
  },
  {
   "cell_type": "code",
   "execution_count": 40,
   "id": "fb806c4e",
   "metadata": {},
   "outputs": [
    {
     "data": {
      "text/plain": [
       "day             object\n",
       "month           object\n",
       "year            object\n",
       "Temperature     object\n",
       "RH              object\n",
       "Ws              object\n",
       "Rain            object\n",
       "FFMC            object\n",
       "DMC             object\n",
       "DC              object\n",
       "ISI             object\n",
       "BUI             object\n",
       "FWI             object\n",
       "Classes          int32\n",
       "Region         float64\n",
       "dtype: object"
      ]
     },
     "execution_count": 40,
     "metadata": {},
     "output_type": "execute_result"
    }
   ],
   "source": [
    "df.dtypes"
   ]
  },
  {
   "cell_type": "code",
   "execution_count": 41,
   "id": "3749f590",
   "metadata": {},
   "outputs": [],
   "source": [
    "# Converting the dtypes \n",
    "X_train = X_train.astype({'day' : int,'month' : int, 'year' : int,'Temperature' : int,'RH' : int,'Ws' : int,'Region' : int})\n",
    "X_train = X_train.astype({'Rain' : float,'FFMC' : float,'DMC' : float,'DC' : float,'ISI' : float,'BUI' : float,'FWI' :float})\n",
    "X_test = X_test.astype({'day' : int,'month' : int, 'year' : int,'Temperature' : int,'RH' : int,'Ws' : int,'Region' : int})\n",
    "X_test = X_test.astype({'Rain' : float,'FFMC' : float,'DMC' : float,'DC' : float,'ISI' : float,'BUI' : float,'FWI' :float})"
   ]
  },
  {
   "cell_type": "code",
   "execution_count": 42,
   "id": "d16a46ed",
   "metadata": {},
   "outputs": [
    {
     "data": {
      "text/plain": [
       "day              int32\n",
       "month            int32\n",
       "year             int32\n",
       "Temperature      int32\n",
       "RH               int32\n",
       "Ws               int32\n",
       "Rain           float64\n",
       "FFMC           float64\n",
       "DMC            float64\n",
       "DC             float64\n",
       "ISI            float64\n",
       "BUI            float64\n",
       "FWI            float64\n",
       "Region           int32\n",
       "dtype: object"
      ]
     },
     "execution_count": 42,
     "metadata": {},
     "output_type": "execute_result"
    }
   ],
   "source": [
    "X_train.dtypes"
   ]
  },
  {
   "cell_type": "code",
   "execution_count": 43,
   "id": "c0072333",
   "metadata": {},
   "outputs": [
    {
     "data": {
      "text/plain": [
       "day              int32\n",
       "month            int32\n",
       "year             int32\n",
       "Temperature      int32\n",
       "RH               int32\n",
       "Ws               int32\n",
       "Rain           float64\n",
       "FFMC           float64\n",
       "DMC            float64\n",
       "DC             float64\n",
       "ISI            float64\n",
       "BUI            float64\n",
       "FWI            float64\n",
       "Region           int32\n",
       "dtype: object"
      ]
     },
     "execution_count": 43,
     "metadata": {},
     "output_type": "execute_result"
    }
   ],
   "source": [
    "X_test.dtypes"
   ]
  },
  {
   "cell_type": "code",
   "execution_count": 44,
   "id": "ec5a2e0d",
   "metadata": {},
   "outputs": [
    {
     "data": {
      "text/plain": [
       "array([0, 1])"
      ]
     },
     "execution_count": 44,
     "metadata": {},
     "output_type": "execute_result"
    }
   ],
   "source": [
    "y_train.unique()"
   ]
  },
  {
   "cell_type": "code",
   "execution_count": 45,
   "id": "26f1c04f",
   "metadata": {},
   "outputs": [
    {
     "data": {
      "text/plain": [
       "1    100\n",
       "0     70\n",
       "Name: Classes, dtype: int64"
      ]
     },
     "execution_count": 45,
     "metadata": {},
     "output_type": "execute_result"
    }
   ],
   "source": [
    "y_train.value_counts()"
   ]
  },
  {
   "cell_type": "code",
   "execution_count": 46,
   "id": "66d9a06d",
   "metadata": {},
   "outputs": [
    {
     "data": {
      "text/plain": [
       "1    37\n",
       "0    36\n",
       "Name: Classes, dtype: int64"
      ]
     },
     "execution_count": 46,
     "metadata": {},
     "output_type": "execute_result"
    }
   ],
   "source": [
    "y_test.value_counts()"
   ]
  },
  {
   "cell_type": "code",
   "execution_count": 47,
   "id": "71f565bc",
   "metadata": {},
   "outputs": [
    {
     "data": {
      "text/html": [
       "<div>\n",
       "<style scoped>\n",
       "    .dataframe tbody tr th:only-of-type {\n",
       "        vertical-align: middle;\n",
       "    }\n",
       "\n",
       "    .dataframe tbody tr th {\n",
       "        vertical-align: top;\n",
       "    }\n",
       "\n",
       "    .dataframe thead th {\n",
       "        text-align: right;\n",
       "    }\n",
       "</style>\n",
       "<table border=\"1\" class=\"dataframe\">\n",
       "  <thead>\n",
       "    <tr style=\"text-align: right;\">\n",
       "      <th></th>\n",
       "      <th>day</th>\n",
       "      <th>month</th>\n",
       "      <th>year</th>\n",
       "      <th>Temperature</th>\n",
       "      <th>RH</th>\n",
       "      <th>Ws</th>\n",
       "      <th>Rain</th>\n",
       "      <th>FFMC</th>\n",
       "      <th>DMC</th>\n",
       "      <th>DC</th>\n",
       "      <th>ISI</th>\n",
       "      <th>BUI</th>\n",
       "      <th>FWI</th>\n",
       "      <th>Region</th>\n",
       "    </tr>\n",
       "  </thead>\n",
       "  <tbody>\n",
       "    <tr>\n",
       "      <th>day</th>\n",
       "      <td>1.000000</td>\n",
       "      <td>0.062996</td>\n",
       "      <td>NaN</td>\n",
       "      <td>0.070720</td>\n",
       "      <td>-0.075157</td>\n",
       "      <td>0.022991</td>\n",
       "      <td>-0.033666</td>\n",
       "      <td>0.186148</td>\n",
       "      <td>0.452093</td>\n",
       "      <td>0.467876</td>\n",
       "      <td>0.182816</td>\n",
       "      <td>0.471813</td>\n",
       "      <td>0.327793</td>\n",
       "      <td>0.084592</td>\n",
       "    </tr>\n",
       "    <tr>\n",
       "      <th>month</th>\n",
       "      <td>0.062996</td>\n",
       "      <td>1.000000</td>\n",
       "      <td>NaN</td>\n",
       "      <td>-0.029865</td>\n",
       "      <td>-0.056639</td>\n",
       "      <td>-0.074480</td>\n",
       "      <td>0.039739</td>\n",
       "      <td>0.022951</td>\n",
       "      <td>0.090696</td>\n",
       "      <td>0.162674</td>\n",
       "      <td>0.083054</td>\n",
       "      <td>0.113536</td>\n",
       "      <td>0.109309</td>\n",
       "      <td>-0.047086</td>\n",
       "    </tr>\n",
       "    <tr>\n",
       "      <th>year</th>\n",
       "      <td>NaN</td>\n",
       "      <td>NaN</td>\n",
       "      <td>NaN</td>\n",
       "      <td>NaN</td>\n",
       "      <td>NaN</td>\n",
       "      <td>NaN</td>\n",
       "      <td>NaN</td>\n",
       "      <td>NaN</td>\n",
       "      <td>NaN</td>\n",
       "      <td>NaN</td>\n",
       "      <td>NaN</td>\n",
       "      <td>NaN</td>\n",
       "      <td>NaN</td>\n",
       "      <td>NaN</td>\n",
       "    </tr>\n",
       "    <tr>\n",
       "      <th>Temperature</th>\n",
       "      <td>0.070720</td>\n",
       "      <td>-0.029865</td>\n",
       "      <td>NaN</td>\n",
       "      <td>1.000000</td>\n",
       "      <td>-0.650623</td>\n",
       "      <td>-0.318634</td>\n",
       "      <td>-0.331731</td>\n",
       "      <td>0.676161</td>\n",
       "      <td>0.484817</td>\n",
       "      <td>0.377729</td>\n",
       "      <td>0.627675</td>\n",
       "      <td>0.461702</td>\n",
       "      <td>0.572181</td>\n",
       "      <td>0.321939</td>\n",
       "    </tr>\n",
       "    <tr>\n",
       "      <th>RH</th>\n",
       "      <td>-0.075157</td>\n",
       "      <td>-0.056639</td>\n",
       "      <td>NaN</td>\n",
       "      <td>-0.650623</td>\n",
       "      <td>1.000000</td>\n",
       "      <td>0.267859</td>\n",
       "      <td>0.216749</td>\n",
       "      <td>-0.658829</td>\n",
       "      <td>-0.448995</td>\n",
       "      <td>-0.285920</td>\n",
       "      <td>-0.695484</td>\n",
       "      <td>-0.404365</td>\n",
       "      <td>-0.597090</td>\n",
       "      <td>-0.434017</td>\n",
       "    </tr>\n",
       "    <tr>\n",
       "      <th>Ws</th>\n",
       "      <td>0.022991</td>\n",
       "      <td>-0.074480</td>\n",
       "      <td>NaN</td>\n",
       "      <td>-0.318634</td>\n",
       "      <td>0.267859</td>\n",
       "      <td>1.000000</td>\n",
       "      <td>0.304219</td>\n",
       "      <td>-0.247078</td>\n",
       "      <td>-0.072303</td>\n",
       "      <td>0.000246</td>\n",
       "      <td>-0.069566</td>\n",
       "      <td>-0.049457</td>\n",
       "      <td>-0.038416</td>\n",
       "      <td>-0.162755</td>\n",
       "    </tr>\n",
       "    <tr>\n",
       "      <th>Rain</th>\n",
       "      <td>-0.033666</td>\n",
       "      <td>0.039739</td>\n",
       "      <td>NaN</td>\n",
       "      <td>-0.331731</td>\n",
       "      <td>0.216749</td>\n",
       "      <td>0.304219</td>\n",
       "      <td>1.000000</td>\n",
       "      <td>-0.493266</td>\n",
       "      <td>-0.259379</td>\n",
       "      <td>-0.282252</td>\n",
       "      <td>-0.326489</td>\n",
       "      <td>-0.272397</td>\n",
       "      <td>-0.298655</td>\n",
       "      <td>-0.124946</td>\n",
       "    </tr>\n",
       "    <tr>\n",
       "      <th>FFMC</th>\n",
       "      <td>0.186148</td>\n",
       "      <td>0.022951</td>\n",
       "      <td>NaN</td>\n",
       "      <td>0.676161</td>\n",
       "      <td>-0.658829</td>\n",
       "      <td>-0.247078</td>\n",
       "      <td>-0.493266</td>\n",
       "      <td>1.000000</td>\n",
       "      <td>0.619200</td>\n",
       "      <td>0.543761</td>\n",
       "      <td>0.760974</td>\n",
       "      <td>0.613633</td>\n",
       "      <td>0.699432</td>\n",
       "      <td>0.268313</td>\n",
       "    </tr>\n",
       "    <tr>\n",
       "      <th>DMC</th>\n",
       "      <td>0.452093</td>\n",
       "      <td>0.090696</td>\n",
       "      <td>NaN</td>\n",
       "      <td>0.484817</td>\n",
       "      <td>-0.448995</td>\n",
       "      <td>-0.072303</td>\n",
       "      <td>-0.259379</td>\n",
       "      <td>0.619200</td>\n",
       "      <td>1.000000</td>\n",
       "      <td>0.877566</td>\n",
       "      <td>0.715397</td>\n",
       "      <td>0.985142</td>\n",
       "      <td>0.895125</td>\n",
       "      <td>0.281624</td>\n",
       "    </tr>\n",
       "    <tr>\n",
       "      <th>DC</th>\n",
       "      <td>0.467876</td>\n",
       "      <td>0.162674</td>\n",
       "      <td>NaN</td>\n",
       "      <td>0.377729</td>\n",
       "      <td>-0.285920</td>\n",
       "      <td>0.000246</td>\n",
       "      <td>-0.282252</td>\n",
       "      <td>0.543761</td>\n",
       "      <td>0.877566</td>\n",
       "      <td>1.000000</td>\n",
       "      <td>0.567555</td>\n",
       "      <td>0.945141</td>\n",
       "      <td>0.775546</td>\n",
       "      <td>0.015524</td>\n",
       "    </tr>\n",
       "    <tr>\n",
       "      <th>ISI</th>\n",
       "      <td>0.182816</td>\n",
       "      <td>0.083054</td>\n",
       "      <td>NaN</td>\n",
       "      <td>0.627675</td>\n",
       "      <td>-0.695484</td>\n",
       "      <td>-0.069566</td>\n",
       "      <td>-0.326489</td>\n",
       "      <td>0.760974</td>\n",
       "      <td>0.715397</td>\n",
       "      <td>0.567555</td>\n",
       "      <td>1.000000</td>\n",
       "      <td>0.682947</td>\n",
       "      <td>0.937112</td>\n",
       "      <td>0.330674</td>\n",
       "    </tr>\n",
       "    <tr>\n",
       "      <th>BUI</th>\n",
       "      <td>0.471813</td>\n",
       "      <td>0.113536</td>\n",
       "      <td>NaN</td>\n",
       "      <td>0.461702</td>\n",
       "      <td>-0.404365</td>\n",
       "      <td>-0.049457</td>\n",
       "      <td>-0.272397</td>\n",
       "      <td>0.613633</td>\n",
       "      <td>0.985142</td>\n",
       "      <td>0.945141</td>\n",
       "      <td>0.682947</td>\n",
       "      <td>1.000000</td>\n",
       "      <td>0.877425</td>\n",
       "      <td>0.192935</td>\n",
       "    </tr>\n",
       "    <tr>\n",
       "      <th>FWI</th>\n",
       "      <td>0.327793</td>\n",
       "      <td>0.109309</td>\n",
       "      <td>NaN</td>\n",
       "      <td>0.572181</td>\n",
       "      <td>-0.597090</td>\n",
       "      <td>-0.038416</td>\n",
       "      <td>-0.298655</td>\n",
       "      <td>0.699432</td>\n",
       "      <td>0.895125</td>\n",
       "      <td>0.775546</td>\n",
       "      <td>0.937112</td>\n",
       "      <td>0.877425</td>\n",
       "      <td>1.000000</td>\n",
       "      <td>0.284185</td>\n",
       "    </tr>\n",
       "    <tr>\n",
       "      <th>Region</th>\n",
       "      <td>0.084592</td>\n",
       "      <td>-0.047086</td>\n",
       "      <td>NaN</td>\n",
       "      <td>0.321939</td>\n",
       "      <td>-0.434017</td>\n",
       "      <td>-0.162755</td>\n",
       "      <td>-0.124946</td>\n",
       "      <td>0.268313</td>\n",
       "      <td>0.281624</td>\n",
       "      <td>0.015524</td>\n",
       "      <td>0.330674</td>\n",
       "      <td>0.192935</td>\n",
       "      <td>0.284185</td>\n",
       "      <td>1.000000</td>\n",
       "    </tr>\n",
       "  </tbody>\n",
       "</table>\n",
       "</div>"
      ],
      "text/plain": [
       "                  day     month  year  Temperature        RH        Ws  \\\n",
       "day          1.000000  0.062996   NaN     0.070720 -0.075157  0.022991   \n",
       "month        0.062996  1.000000   NaN    -0.029865 -0.056639 -0.074480   \n",
       "year              NaN       NaN   NaN          NaN       NaN       NaN   \n",
       "Temperature  0.070720 -0.029865   NaN     1.000000 -0.650623 -0.318634   \n",
       "RH          -0.075157 -0.056639   NaN    -0.650623  1.000000  0.267859   \n",
       "Ws           0.022991 -0.074480   NaN    -0.318634  0.267859  1.000000   \n",
       "Rain        -0.033666  0.039739   NaN    -0.331731  0.216749  0.304219   \n",
       "FFMC         0.186148  0.022951   NaN     0.676161 -0.658829 -0.247078   \n",
       "DMC          0.452093  0.090696   NaN     0.484817 -0.448995 -0.072303   \n",
       "DC           0.467876  0.162674   NaN     0.377729 -0.285920  0.000246   \n",
       "ISI          0.182816  0.083054   NaN     0.627675 -0.695484 -0.069566   \n",
       "BUI          0.471813  0.113536   NaN     0.461702 -0.404365 -0.049457   \n",
       "FWI          0.327793  0.109309   NaN     0.572181 -0.597090 -0.038416   \n",
       "Region       0.084592 -0.047086   NaN     0.321939 -0.434017 -0.162755   \n",
       "\n",
       "                 Rain      FFMC       DMC        DC       ISI       BUI  \\\n",
       "day         -0.033666  0.186148  0.452093  0.467876  0.182816  0.471813   \n",
       "month        0.039739  0.022951  0.090696  0.162674  0.083054  0.113536   \n",
       "year              NaN       NaN       NaN       NaN       NaN       NaN   \n",
       "Temperature -0.331731  0.676161  0.484817  0.377729  0.627675  0.461702   \n",
       "RH           0.216749 -0.658829 -0.448995 -0.285920 -0.695484 -0.404365   \n",
       "Ws           0.304219 -0.247078 -0.072303  0.000246 -0.069566 -0.049457   \n",
       "Rain         1.000000 -0.493266 -0.259379 -0.282252 -0.326489 -0.272397   \n",
       "FFMC        -0.493266  1.000000  0.619200  0.543761  0.760974  0.613633   \n",
       "DMC         -0.259379  0.619200  1.000000  0.877566  0.715397  0.985142   \n",
       "DC          -0.282252  0.543761  0.877566  1.000000  0.567555  0.945141   \n",
       "ISI         -0.326489  0.760974  0.715397  0.567555  1.000000  0.682947   \n",
       "BUI         -0.272397  0.613633  0.985142  0.945141  0.682947  1.000000   \n",
       "FWI         -0.298655  0.699432  0.895125  0.775546  0.937112  0.877425   \n",
       "Region      -0.124946  0.268313  0.281624  0.015524  0.330674  0.192935   \n",
       "\n",
       "                  FWI    Region  \n",
       "day          0.327793  0.084592  \n",
       "month        0.109309 -0.047086  \n",
       "year              NaN       NaN  \n",
       "Temperature  0.572181  0.321939  \n",
       "RH          -0.597090 -0.434017  \n",
       "Ws          -0.038416 -0.162755  \n",
       "Rain        -0.298655 -0.124946  \n",
       "FFMC         0.699432  0.268313  \n",
       "DMC          0.895125  0.281624  \n",
       "DC           0.775546  0.015524  \n",
       "ISI          0.937112  0.330674  \n",
       "BUI          0.877425  0.192935  \n",
       "FWI          1.000000  0.284185  \n",
       "Region       0.284185  1.000000  "
      ]
     },
     "execution_count": 47,
     "metadata": {},
     "output_type": "execute_result"
    }
   ],
   "source": [
    "# Finding Coorelation\n",
    "X_train.corr()"
   ]
  },
  {
   "cell_type": "code",
   "execution_count": 48,
   "id": "b0af9338",
   "metadata": {},
   "outputs": [
    {
     "data": {
      "text/plain": [
       "<AxesSubplot:>"
      ]
     },
     "execution_count": 48,
     "metadata": {},
     "output_type": "execute_result"
    },
    {
     "data": {
      "image/png": "[encoded data removed]",
      "text/plain": [
       "<Figure size 1440x1080 with 2 Axes>"
      ]
     },
     "metadata": {
      "needs_background": "light"
     },
     "output_type": "display_data"
    }
   ],
   "source": [
    "plt.figure(figsize = (20,15))\n",
    "sns.heatmap(X_train.corr(), annot=True)"
   ]
  },
  {
   "cell_type": "markdown",
   "id": "a236b251",
   "metadata": {},
   "source": [
    "OBSERVATIONS :                                                                                                               \n",
    "    Temperature is highly correlated with RH, FFMC, ISI, FWI                                                                    \n",
    "    RH is highly correlated with Temperature, FFMC, ISI, FWI                                                        \n",
    "    FFMC is highly correlated with RH, DMC, DC, ISI, BUI, FWI                                                      \n",
    "    DMC is highly correlated with FFMC, DC, ISI, BUI, FWI                                                          \n",
    "    DC is highly Correlated with FFMC, DMC, ISI, BUI, FWI                                                       \n",
    "    ISI is highly correlated with Temperature, RH, FFMC, DMC, DC, BUI, FWI                                                    \n",
    "    BUI is highly correlated with FFMC, DMC, DC, ISI, FWI                                                                       \n",
    "    FWI is highly correlated with Temperature, RH, FFMC, DMC, DC, ISI, BUI                                                \n",
    "    "
   ]
  },
  {
   "cell_type": "code",
   "execution_count": 49,
   "id": "5de18c56",
   "metadata": {},
   "outputs": [],
   "source": [
    "# finding features that are more than 80% correlated\n",
    "def correlation(datas, threshold):\n",
    "    col_corr = set()\n",
    "    corr_matrix = datas.corr()\n",
    "    for i in range(len(corr_matrix.columns)):\n",
    "        for j in range(i):\n",
    "            if abs(corr_matrix.iloc[i, j]) > threshold: \n",
    "                colname = corr_matrix.columns[i]\n",
    "                col_corr.add(colname)\n",
    "    return col_corr"
   ]
  },
  {
   "cell_type": "code",
   "execution_count": 50,
   "id": "42e29369",
   "metadata": {},
   "outputs": [
    {
     "data": {
      "text/plain": [
       "{'BUI', 'DC', 'FWI'}"
      ]
     },
     "execution_count": 50,
     "metadata": {},
     "output_type": "execute_result"
    }
   ],
   "source": [
    "correlated_features = correlation(X_train,0.8)\n",
    "correlated_features"
   ]
  },
  {
   "cell_type": "markdown",
   "id": "22c6aabf",
   "metadata": {},
   "source": [
    "so here BUI, DC, FWI are more than 80% correlated and so we can drop it and also we can drop day, month, year features"
   ]
  },
  {
   "cell_type": "code",
   "execution_count": 51,
   "id": "9d8cbb9d",
   "metadata": {},
   "outputs": [],
   "source": [
    "# droping features\n",
    "X_train.drop(columns=['BUI','DC','FWI','day','month','year'],axis=1,inplace=True)\n",
    "X_test.drop(columns=['BUI','DC','FWI','day','month','year'],axis=1,inplace=True)"
   ]
  },
  {
   "cell_type": "code",
   "execution_count": 52,
   "id": "5e430de3",
   "metadata": {},
   "outputs": [],
   "source": [
    "X_train.reset_index(inplace=True)"
   ]
  },
  {
   "cell_type": "code",
   "execution_count": 53,
   "id": "8b2f7447",
   "metadata": {},
   "outputs": [],
   "source": [
    "X_test.reset_index(inplace=True)"
   ]
  },
  {
   "cell_type": "code",
   "execution_count": 54,
   "id": "b81e81ce",
   "metadata": {},
   "outputs": [],
   "source": [
    "X_train.drop(columns='index',axis=1,inplace=True)\n",
    "X_test.drop(columns='index',axis=1,inplace=True)"
   ]
  },
  {
   "cell_type": "code",
   "execution_count": 55,
   "id": "b6fe36cf",
   "metadata": {},
   "outputs": [
    {
     "data": {
      "text/html": [
       "<div>\n",
       "<style scoped>\n",
       "    .dataframe tbody tr th:only-of-type {\n",
       "        vertical-align: middle;\n",
       "    }\n",
       "\n",
       "    .dataframe tbody tr th {\n",
       "        vertical-align: top;\n",
       "    }\n",
       "\n",
       "    .dataframe thead th {\n",
       "        text-align: right;\n",
       "    }\n",
       "</style>\n",
       "<table border=\"1\" class=\"dataframe\">\n",
       "  <thead>\n",
       "    <tr style=\"text-align: right;\">\n",
       "      <th></th>\n",
       "      <th>Temperature</th>\n",
       "      <th>RH</th>\n",
       "      <th>Ws</th>\n",
       "      <th>Rain</th>\n",
       "      <th>FFMC</th>\n",
       "      <th>DMC</th>\n",
       "      <th>ISI</th>\n",
       "      <th>Region</th>\n",
       "    </tr>\n",
       "  </thead>\n",
       "  <tbody>\n",
       "    <tr>\n",
       "      <th>0</th>\n",
       "      <td>33</td>\n",
       "      <td>73</td>\n",
       "      <td>12</td>\n",
       "      <td>1.8</td>\n",
       "      <td>59.9</td>\n",
       "      <td>2.2</td>\n",
       "      <td>0.7</td>\n",
       "      <td>0</td>\n",
       "    </tr>\n",
       "    <tr>\n",
       "      <th>1</th>\n",
       "      <td>31</td>\n",
       "      <td>64</td>\n",
       "      <td>15</td>\n",
       "      <td>0.0</td>\n",
       "      <td>86.7</td>\n",
       "      <td>14.2</td>\n",
       "      <td>5.7</td>\n",
       "      <td>0</td>\n",
       "    </tr>\n",
       "    <tr>\n",
       "      <th>2</th>\n",
       "      <td>31</td>\n",
       "      <td>65</td>\n",
       "      <td>18</td>\n",
       "      <td>0.0</td>\n",
       "      <td>84.3</td>\n",
       "      <td>12.5</td>\n",
       "      <td>4.8</td>\n",
       "      <td>0</td>\n",
       "    </tr>\n",
       "    <tr>\n",
       "      <th>3</th>\n",
       "      <td>30</td>\n",
       "      <td>77</td>\n",
       "      <td>21</td>\n",
       "      <td>1.8</td>\n",
       "      <td>58.5</td>\n",
       "      <td>1.9</td>\n",
       "      <td>1.1</td>\n",
       "      <td>0</td>\n",
       "    </tr>\n",
       "    <tr>\n",
       "      <th>4</th>\n",
       "      <td>33</td>\n",
       "      <td>70</td>\n",
       "      <td>17</td>\n",
       "      <td>0.0</td>\n",
       "      <td>85.4</td>\n",
       "      <td>18.5</td>\n",
       "      <td>5.2</td>\n",
       "      <td>0</td>\n",
       "    </tr>\n",
       "  </tbody>\n",
       "</table>\n",
       "</div>"
      ],
      "text/plain": [
       "   Temperature  RH  Ws  Rain  FFMC   DMC  ISI  Region\n",
       "0           33  73  12   1.8  59.9   2.2  0.7       0\n",
       "1           31  64  15   0.0  86.7  14.2  5.7       0\n",
       "2           31  65  18   0.0  84.3  12.5  4.8       0\n",
       "3           30  77  21   1.8  58.5   1.9  1.1       0\n",
       "4           33  70  17   0.0  85.4  18.5  5.2       0"
      ]
     },
     "execution_count": 55,
     "metadata": {},
     "output_type": "execute_result"
    }
   ],
   "source": [
    "X_train.head()"
   ]
  },
  {
   "cell_type": "code",
   "execution_count": 56,
   "id": "bb8b7c63",
   "metadata": {},
   "outputs": [
    {
     "data": {
      "text/html": [
       "<div>\n",
       "<style scoped>\n",
       "    .dataframe tbody tr th:only-of-type {\n",
       "        vertical-align: middle;\n",
       "    }\n",
       "\n",
       "    .dataframe tbody tr th {\n",
       "        vertical-align: top;\n",
       "    }\n",
       "\n",
       "    .dataframe thead th {\n",
       "        text-align: right;\n",
       "    }\n",
       "</style>\n",
       "<table border=\"1\" class=\"dataframe\">\n",
       "  <thead>\n",
       "    <tr style=\"text-align: right;\">\n",
       "      <th></th>\n",
       "      <th>Temperature</th>\n",
       "      <th>RH</th>\n",
       "      <th>Ws</th>\n",
       "      <th>Rain</th>\n",
       "      <th>FFMC</th>\n",
       "      <th>DMC</th>\n",
       "      <th>ISI</th>\n",
       "      <th>Region</th>\n",
       "    </tr>\n",
       "  </thead>\n",
       "  <tbody>\n",
       "    <tr>\n",
       "      <th>0</th>\n",
       "      <td>36</td>\n",
       "      <td>53</td>\n",
       "      <td>19</td>\n",
       "      <td>0.0</td>\n",
       "      <td>89.2</td>\n",
       "      <td>17.1</td>\n",
       "      <td>10.0</td>\n",
       "      <td>0</td>\n",
       "    </tr>\n",
       "    <tr>\n",
       "      <th>1</th>\n",
       "      <td>34</td>\n",
       "      <td>71</td>\n",
       "      <td>14</td>\n",
       "      <td>6.5</td>\n",
       "      <td>64.5</td>\n",
       "      <td>3.3</td>\n",
       "      <td>1.0</td>\n",
       "      <td>1</td>\n",
       "    </tr>\n",
       "    <tr>\n",
       "      <th>2</th>\n",
       "      <td>32</td>\n",
       "      <td>51</td>\n",
       "      <td>13</td>\n",
       "      <td>0.0</td>\n",
       "      <td>88.7</td>\n",
       "      <td>16.0</td>\n",
       "      <td>6.9</td>\n",
       "      <td>1</td>\n",
       "    </tr>\n",
       "    <tr>\n",
       "      <th>3</th>\n",
       "      <td>29</td>\n",
       "      <td>73</td>\n",
       "      <td>17</td>\n",
       "      <td>0.1</td>\n",
       "      <td>68.4</td>\n",
       "      <td>1.9</td>\n",
       "      <td>1.4</td>\n",
       "      <td>0</td>\n",
       "    </tr>\n",
       "    <tr>\n",
       "      <th>4</th>\n",
       "      <td>34</td>\n",
       "      <td>56</td>\n",
       "      <td>15</td>\n",
       "      <td>2.9</td>\n",
       "      <td>74.8</td>\n",
       "      <td>7.1</td>\n",
       "      <td>1.6</td>\n",
       "      <td>1</td>\n",
       "    </tr>\n",
       "  </tbody>\n",
       "</table>\n",
       "</div>"
      ],
      "text/plain": [
       "   Temperature  RH  Ws  Rain  FFMC   DMC   ISI  Region\n",
       "0           36  53  19   0.0  89.2  17.1  10.0       0\n",
       "1           34  71  14   6.5  64.5   3.3   1.0       1\n",
       "2           32  51  13   0.0  88.7  16.0   6.9       1\n",
       "3           29  73  17   0.1  68.4   1.9   1.4       0\n",
       "4           34  56  15   2.9  74.8   7.1   1.6       1"
      ]
     },
     "execution_count": 56,
     "metadata": {},
     "output_type": "execute_result"
    }
   ],
   "source": [
    "X_test.head()"
   ]
  },
  {
   "cell_type": "code",
   "execution_count": 57,
   "id": "e49767e7",
   "metadata": {},
   "outputs": [
    {
     "data": {
      "image/png": "[encoded data removed]",
      "text/plain": [
       "<Figure size 1440x720 with 8 Axes>"
      ]
     },
     "metadata": {
      "needs_background": "light"
     },
     "output_type": "display_data"
    }
   ],
   "source": [
    "# Visualizing the Distribution\n",
    "\n",
    "plt.figure(figsize=(20,10))\n",
    "plt.suptitle('Visualizing Distribution of Features',fontsize = 20, fontweight = 'bold')\n",
    "\n",
    "for i in range(0,len(X_train.columns)):\n",
    "    plt.subplot(2,4,i+1)\n",
    "    sns.kdeplot(x = X_train[X_train.columns[i]], shade=True)"
   ]
  },
  {
   "cell_type": "code",
   "execution_count": 58,
   "id": "d00aa12d",
   "metadata": {},
   "outputs": [
    {
     "data": {
      "image/png": "[encoded data removed]",
      "text/plain": [
       "<Figure size 1440x720 with 8 Axes>"
      ]
     },
     "metadata": {
      "needs_background": "light"
     },
     "output_type": "display_data"
    }
   ],
   "source": [
    "# Visualizing the Distribution\n",
    "\n",
    "plt.figure(figsize=(20,10))\n",
    "plt.suptitle('Visualizing Distribution of Features',fontsize = 20, fontweight = 'bold')\n",
    "\n",
    "for i in range(0,len(X_test.columns)):\n",
    "    plt.subplot(2,4,i+1)\n",
    "    sns.kdeplot(x = X_test[X_test.columns[i]], shade=True)"
   ]
  },
  {
   "cell_type": "markdown",
   "id": "03a01d52",
   "metadata": {},
   "source": [
    "# Feature Scaling"
   ]
  },
  {
   "cell_type": "code",
   "execution_count": 59,
   "id": "a1c88e0d",
   "metadata": {},
   "outputs": [],
   "source": [
    "scalar = StandardScaler()\n",
    "X_train_scaled = scalar.fit_transform(X_train)\n",
    "X_test_scaled = scalar.transform(X_test)"
   ]
  },
  {
   "cell_type": "code",
   "execution_count": 60,
   "id": "189452ae",
   "metadata": {},
   "outputs": [
    {
     "data": {
      "text/plain": [
       "array([[ 0.2768811 ,  0.70529363, -1.21076039, ..., -0.99829831,\n",
       "        -0.98570585, -0.98830369],\n",
       "       [-0.270442  ,  0.10445886, -0.18503315, ..., -0.03197397,\n",
       "         0.25206926, -0.98830369],\n",
       "       [-0.270442  ,  0.17121827,  0.84069409, ..., -0.16886992,\n",
       "         0.02926974, -0.98830369],\n",
       "       ...,\n",
       "       [-1.09142665,  1.6399255 , -0.18503315, ..., -0.65203209,\n",
       "        -1.13423887,  1.01183473],\n",
       "       [ 0.55054265, -1.4977672 ,  0.84069409, ...,  3.35821393,\n",
       "         2.38104246,  1.01183473],\n",
       "       [-0.54410355,  0.70529363,  0.49878501, ..., -0.9660875 ,\n",
       "        -0.88668385, -0.98830369]])"
      ]
     },
     "execution_count": 60,
     "metadata": {},
     "output_type": "execute_result"
    }
   ],
   "source": [
    "X_train_scaled"
   ]
  },
  {
   "cell_type": "code",
   "execution_count": 61,
   "id": "3afc6e3b",
   "metadata": {},
   "outputs": [
    {
     "data": {
      "text/plain": [
       "array([[ 1.09786575e+00, -6.29894755e-01,  1.18260317e+00,\n",
       "        -3.51344403e-01,  7.94125580e-01,  2.01554415e-01,\n",
       "         1.31655586e+00, -9.88303691e-01],\n",
       "       [ 5.50542648e-01,  5.71774790e-01, -5.26942228e-01,\n",
       "         2.89748878e+00, -8.81350911e-01, -9.09718576e-01,\n",
       "        -9.11439348e-01,  1.01183473e+00],\n",
       "       [ 3.21954765e-03, -7.63413593e-01, -8.68851308e-01,\n",
       "        -3.51344403e-01,  7.60209052e-01,  1.12974684e-01,\n",
       "         5.49135290e-01,  1.01183473e+00],\n",
       "       [-8.17765103e-01,  7.05293628e-01,  4.98785010e-01,\n",
       "        -3.01362354e-01, -6.16801991e-01, -1.02245642e+00,\n",
       "        -8.12417338e-01, -9.88303691e-01],\n",
       "       [ 5.50542648e-01, -4.29616497e-01, -1.85033149e-01,\n",
       "         1.09813502e+00, -1.82670430e-01, -6.03715868e-01,\n",
       "        -7.62906334e-01,  1.01183473e+00],\n",
       "       [ 8.24204199e-01, -5.63135336e-01, -1.55266947e+00,\n",
       "        -3.01362354e-01,  4.21043771e-01, -4.99030732e-01,\n",
       "        -3.91573799e-01,  1.01183473e+00],\n",
       "       [-1.91241130e+00,  1.57316608e+00,  1.86642133e+00,\n",
       "         1.94782985e+00, -2.48221104e+00, -1.07077263e+00,\n",
       "        -1.13423887e+00, -9.88303691e-01],\n",
       "       [-1.09142665e+00,  1.10585014e+00,  8.40694090e-01,\n",
       "        -3.01362354e-01, -2.77636709e-01,  1.45185495e-01,\n",
       "        -7.13395329e-01, -9.88303691e-01],\n",
       "       [ 8.24204199e-01,  5.05015371e-01,  4.98785010e-01,\n",
       "         4.85119888e-02, -3.25119849e-01,  8.53823345e-01,\n",
       "        -7.38150831e-01, -9.88303691e-01],\n",
       "       [ 5.50542648e-01,  1.04458856e-01,  1.56875931e-01,\n",
       "        -3.51344403e-01,  8.07692192e-01,  2.86699905e+00,\n",
       "         6.48157299e-01, -9.88303691e-01],\n",
       "       [-5.44103553e-01, -2.96097659e-01, -1.21076039e+00,\n",
       "         1.69791961e+00, -7.72818020e-01, -8.53349656e-01,\n",
       "        -9.11439348e-01,  1.01183473e+00],\n",
       "       [ 1.09786575e+00, -1.23072953e+00, -8.68851308e-01,\n",
       "        -3.51344403e-01,  8.55175331e-01, -1.60817213e-01,\n",
       "         8.95712323e-01,  1.01183473e+00],\n",
       "       [-2.73339596e+00,  1.57316608e+00, -1.85033149e-01,\n",
       "         4.69684255e+00, -3.18767483e+00, -1.11908885e+00,\n",
       "        -1.15899437e+00, -9.88303691e-01],\n",
       "       [-8.17765103e-01,  7.72053047e-01,  1.18260317e+00,\n",
       "        -3.01362354e-01, -1.14837374e-01, -8.85560468e-01,\n",
       "        -6.39128822e-01, -9.88303691e-01],\n",
       "       [ 5.50542648e-01,  1.23936898e+00, -1.85033149e-01,\n",
       "        -3.51344403e-01,  2.92160964e-01, -3.94345595e-01,\n",
       "        -4.16329301e-01, -9.88303691e-01],\n",
       "       [ 1.09786575e+00, -1.16397011e+00, -5.26942228e-01,\n",
       "        -3.51344403e-01,  8.86617948e-02, -7.88928034e-01,\n",
       "        -6.63884324e-01, -9.88303691e-01],\n",
       "       [-1.09142665e+00,  1.23936898e+00, -1.85033149e-01,\n",
       "        -3.51344403e-01,  4.82093521e-01, -1.60817213e-01,\n",
       "        -9.45077707e-02,  1.01183473e+00],\n",
       "       [-5.44103553e-01,  1.17260956e+00, -1.85033149e-01,\n",
       "        -3.51344403e-01,  3.80343937e-01, -5.39294246e-01,\n",
       "        -2.92551789e-01,  1.01183473e+00],\n",
       "       [ 1.09786575e+00, -9.63691851e-01, -8.68851308e-01,\n",
       "        -3.51344403e-01,  8.68741942e-01,  6.12242260e-01,\n",
       "         9.94734332e-01, -9.88303691e-01],\n",
       "       [ 2.76881098e-01, -5.63135336e-01, -8.68851308e-01,\n",
       "        -3.51344403e-01,  7.26292524e-01, -3.78240189e-01,\n",
       "         4.25357778e-01, -9.88303691e-01],\n",
       "       [ 3.21954765e-03, -1.03045127e+00, -5.26942228e-01,\n",
       "        -1.47006027e-03,  4.78821574e-04, -6.03715868e-01,\n",
       "        -7.13395329e-01, -9.88303691e-01],\n",
       "       [ 2.19251195e+00, -1.43100778e+00, -1.89457855e+00,\n",
       "        -3.01362354e-01,  9.84058138e-01,  6.44453071e-01,\n",
       "         1.19277835e+00,  1.01183473e+00],\n",
       "       [ 1.09786575e+00, -4.96375916e-01, -8.68851308e-01,\n",
       "        -2.01398256e-01,  3.32860798e-01,  8.07638726e-02,\n",
       "        -2.43040785e-01, -9.88303691e-01],\n",
       "       [ 1.91885040e+00, -2.76619617e+00,  4.98785010e-01,\n",
       "        -1.51416207e-01,  1.05189119e+00,  3.06239552e-01,\n",
       "         2.67810849e+00,  1.01183473e+00],\n",
       "       [-5.44103553e-01, -5.63135336e-01, -5.26942228e-01,\n",
       "         1.19809912e+00, -4.74352573e-01, -2.89660458e-01,\n",
       "        -8.37172841e-01,  1.01183473e+00],\n",
       "       [-1.91241130e+00,  1.77344433e+00, -8.68851308e-01,\n",
       "         8.98206822e-01, -3.31655763e+00, -1.07077263e+00,\n",
       "        -1.15899437e+00, -9.88303691e-01],\n",
       "       [ 8.24204199e-01, -1.89832372e+00,  1.56875931e-01,\n",
       "        -2.51380305e-01,  7.33075830e-01,  1.85449009e-01,\n",
       "         6.97668304e-01,  1.01183473e+00],\n",
       "       [ 5.50542648e-01, -7.63413593e-01,  1.56875931e-01,\n",
       "         1.54797346e+00,  4.78821574e-04, -5.31241543e-01,\n",
       "        -6.63884324e-01,  1.01183473e+00],\n",
       "       [-2.70442003e-01,  5.71774790e-01,  4.98785010e-01,\n",
       "        -2.01398256e-01, -5.35402323e-01, -9.17771279e-01,\n",
       "        -7.87661836e-01, -9.88303691e-01],\n",
       "       [ 1.09786575e+00, -8.30173012e-01,  1.56875931e-01,\n",
       "        -3.51344403e-01,  8.41608720e-01,  1.45777606e+00,\n",
       "         1.19277835e+00,  1.01183473e+00],\n",
       "       [-8.17765103e-01,  5.05015371e-01, -5.26942228e-01,\n",
       "        -3.51344403e-01,  3.59994020e-01, -4.18503703e-01,\n",
       "        -3.66818296e-01, -9.88303691e-01],\n",
       "       [-5.44103553e-01,  7.05293628e-01, -8.68851308e-01,\n",
       "         1.64793756e+00, -1.47828181e+00, -9.58034793e-01,\n",
       "        -1.01046136e+00,  1.01183473e+00],\n",
       "       [ 5.50542648e-01, -1.23072953e+00, -1.21076039e+00,\n",
       "        -3.51344403e-01,  1.01797467e+00,  8.53823345e-01,\n",
       "         1.61362189e+00,  1.01183473e+00],\n",
       "       [ 8.24204199e-01, -2.29338240e-01,  4.98785010e-01,\n",
       "        -3.51344403e-01,  7.19509219e-01, -2.09133430e-01,\n",
       "         7.47179309e-01, -9.88303691e-01],\n",
       "       [ 8.24204199e-01,  1.04458856e-01,  4.98785010e-01,\n",
       "        -3.51344403e-01,  6.58459468e-01,  1.39335443e+00,\n",
       "         5.24379788e-01, -9.88303691e-01],\n",
       "       [-2.18607285e+00,  1.04458856e-01, -1.85033149e-01,\n",
       "        -2.51380305e-01, -6.91418353e-01, -8.69455062e-01,\n",
       "        -8.61928343e-01,  1.01183473e+00],\n",
       "       [ 3.21954765e-03, -1.03045127e+00, -8.68851308e-01,\n",
       "        -2.01398256e-01,  1.63278157e-01,  3.06239552e-01,\n",
       "        -6.14373320e-01, -9.88303691e-01],\n",
       "       [-1.09142665e+00,  1.03909072e+00,  1.56875931e-01,\n",
       "        -3.01362354e-01, -5.08269101e-01, -4.02398298e-01,\n",
       "        -8.12417338e-01, -9.88303691e-01],\n",
       "       [-1.36508820e+00, -2.29338240e-01,  8.40694090e-01,\n",
       "        -3.01362354e-01,  4.11786554e-02, -4.90978029e-01,\n",
       "        -5.64862315e-01,  1.01183473e+00],\n",
       "       [-2.70442003e-01,  1.03909072e+00, -5.26942228e-01,\n",
       "        -2.01398256e-01, -1.39688214e+00, -1.02245642e+00,\n",
       "        -9.85705855e-01, -9.88303691e-01],\n",
       "       [ 2.76881098e-01,  3.71496532e-01,  1.18260317e+00,\n",
       "        -3.51344403e-01,  5.49926578e-01, -1.68869915e-01,\n",
       "         3.26335769e-01, -9.88303691e-01],\n",
       "       [-2.70442003e-01,  1.04458856e-01,  8.40694090e-01,\n",
       "        -3.51344403e-01,  6.31326245e-01,  2.57923335e-01,\n",
       "         4.99624285e-01, -9.88303691e-01],\n",
       "       [-2.70442003e-01,  3.04737113e-01,  4.98785010e-01,\n",
       "        -3.01362354e-01,  1.09011712e-01, -6.11768571e-01,\n",
       "        -5.64862315e-01, -9.88303691e-01],\n",
       "       [ 5.50542648e-01, -6.29894755e-01,  8.40694090e-01,\n",
       "        -3.51344403e-01,  7.80558969e-01,  5.63926043e-01,\n",
       "         1.11851184e+00, -9.88303691e-01],\n",
       "       [ 5.50542648e-01, -4.29616497e-01,  4.98785010e-01,\n",
       "        -3.01362354e-01,  4.88876827e-01, -3.94345595e-01,\n",
       "         4.51423866e-03,  1.01183473e+00],\n",
       "       [ 8.24204199e-01, -9.63691851e-01,  8.40694090e-01,\n",
       "        -3.51344403e-01,  8.55175331e-01,  3.18910717e+00,\n",
       "         1.93544342e+00, -9.88303691e-01],\n",
       "       [ 1.09786575e+00,  1.23936898e+00, -1.85033149e-01,\n",
       "        -3.51344403e-01,  4.21043771e-01,  1.59467201e+00,\n",
       "        -2.18285282e-01,  1.01183473e+00],\n",
       "       [ 1.64518885e+00, -1.83156430e+00, -1.85033149e-01,\n",
       "        -3.51344403e-01,  1.10615764e+00,  6.76663882e-01,\n",
       "         2.72761950e+00,  1.01183473e+00],\n",
       "       [ 2.76881098e-01,  9.05571886e-01, -5.26942228e-01,\n",
       "        -3.51344403e-01,  2.44677824e-01, -5.23188840e-01,\n",
       "        -5.15351310e-01, -9.88303691e-01],\n",
       "       [-8.17765103e-01,  1.63992550e+00,  8.40694090e-01,\n",
       "        -3.51344403e-01,  1.70061462e-01, -2.25238835e-01,\n",
       "        -4.65840306e-01,  1.01183473e+00],\n",
       "       [ 5.50542648e-01,  3.76994367e-02, -8.68851308e-01,\n",
       "         1.09813502e+00, -5.28619018e-01, -5.95663166e-01,\n",
       "        -8.61928343e-01,  1.01183473e+00],\n",
       "       [-8.17765103e-01,  7.72053047e-01, -1.85033149e-01,\n",
       "         1.98458136e-01, -1.22051619e+00, -7.96980736e-01,\n",
       "        -9.60950353e-01,  1.01183473e+00],\n",
       "       [ 8.24204199e-01, -4.29616497e-01, -5.26942228e-01,\n",
       "        -1.51416207e-01,  1.15795017e-01,  1.80404228e+00,\n",
       "        -6.39128822e-01,  1.01183473e+00],\n",
       "       [ 5.50542648e-01,  1.04458856e-01, -5.26942228e-01,\n",
       "        -3.51344403e-01,  7.73775664e-01,  2.08588688e+00,\n",
       "         1.06900084e+00, -9.88303691e-01],\n",
       "       [ 5.50542648e-01, -8.96932431e-01, -1.85033149e-01,\n",
       "        -3.51344403e-01,  7.94125580e-01,  8.21612533e-01,\n",
       "         8.46201318e-01,  1.01183473e+00],\n",
       "       [-8.17765103e-01,  8.38812466e-01,  1.56875931e-01,\n",
       "        -3.51344403e-01,  2.24327907e-01, -9.01665873e-01,\n",
       "        -4.65840306e-01, -9.88303691e-01],\n",
       "       [-8.17765103e-01, -8.96932431e-01,  1.18260317e+00,\n",
       "        -3.51344403e-01,  7.53425747e-01, -2.49396944e-01,\n",
       "         1.09375634e+00,  1.01183473e+00],\n",
       "       [ 2.76881098e-01, -2.90599825e-02, -1.89457855e+00,\n",
       "         3.99709386e+00, -8.13517854e-01, -8.05033439e-01,\n",
       "        -9.36194850e-01,  1.01183473e+00],\n",
       "       [-2.70442003e-01,  4.38255952e-01,  4.98785010e-01,\n",
       "         1.99781190e+00, -1.03736694e+00, -8.61402359e-01,\n",
       "        -8.86683845e-01,  1.01183473e+00],\n",
       "       [ 2.76881098e-01,  1.30612840e+00,  1.86642133e+00,\n",
       "        -3.51344403e-01,  5.02443438e-01,  2.60931256e+00,\n",
       "        -6.97522684e-02, -9.88303691e-01],\n",
       "       [ 1.37152730e+00, -6.96654174e-01,  8.40694090e-01,\n",
       "        -3.51344403e-01,  8.00908886e-01,  1.12974684e-01,\n",
       "         1.24228936e+00, -9.88303691e-01],\n",
       "       [ 1.09786575e+00, -2.23212081e+00,  8.40694090e-01,\n",
       "        -3.51344403e-01,  1.11294095e+00,  2.01341255e+00,\n",
       "         3.42077356e+00,  1.01183473e+00],\n",
       "       [ 8.24204199e-01, -2.96097659e-01, -1.89457855e+00,\n",
       "        -2.51380305e-01,  5.47452666e-02, -3.05765864e-01,\n",
       "        -7.62906334e-01,  1.01183473e+00],\n",
       "       [-1.09142665e+00,  3.04737113e-01,  1.18260317e+00,\n",
       "        -3.51344403e-01, -1.41970597e-01, -9.41929388e-01,\n",
       "        -6.63884324e-01,  1.01183473e+00],\n",
       "       [ 2.76881098e-01,  2.37977694e-01, -5.26942228e-01,\n",
       "        -3.51344403e-01,  5.70276495e-01, -5.63452354e-01,\n",
       "         2.92697410e-02, -9.88303691e-01],\n",
       "       [ 5.50542648e-01, -1.36424837e+00,  4.98785010e-01,\n",
       "        -3.01362354e-01,  7.33075830e-01,  7.24980099e-01,\n",
       "         3.54455107e+00,  1.01183473e+00],\n",
       "       [ 2.76881098e-01, -3.62857078e-01,  1.56875931e-01,\n",
       "        -3.51344403e-01,  6.78809385e-01,  8.88165754e-02,\n",
       "         4.99624285e-01,  1.01183473e+00],\n",
       "       [-2.70442003e-01, -5.63135336e-01, -1.55266947e+00,\n",
       "        -3.51344403e-01,  3.05727575e-01, -6.92295600e-01,\n",
       "        -5.40106813e-01, -9.88303691e-01],\n",
       "       [ 2.76881098e-01,  4.38255952e-01, -8.68851308e-01,\n",
       "        -1.47006027e-03, -7.38901492e-01, -6.92295600e-01,\n",
       "        -8.86683845e-01, -9.88303691e-01],\n",
       "       [ 2.76881098e-01,  3.76994367e-02,  4.98785010e-01,\n",
       "         1.98458136e-01, -3.18336543e-01,  5.07557123e-01,\n",
       "        -7.62906334e-01,  1.01183473e+00],\n",
       "       [ 8.24204199e-01, -4.29616497e-01, -5.26942228e-01,\n",
       "        -3.51344403e-01,  7.80558969e-01,  1.19203686e+00,\n",
       "         6.97668304e-01,  1.01183473e+00],\n",
       "       [ 1.64518885e+00, -6.96654174e-01, -5.26942228e-01,\n",
       "        -3.51344403e-01,  5.47452666e-02, -8.21138845e-01,\n",
       "        -6.63884324e-01,  1.01183473e+00],\n",
       "       [ 8.24204199e-01, -2.90599825e-02,  1.18260317e+00,\n",
       "        -3.51344403e-01,  8.07692192e-01,  6.92769288e-01,\n",
       "         1.24228936e+00, -9.88303691e-01]])"
      ]
     },
     "execution_count": 61,
     "metadata": {},
     "output_type": "execute_result"
    }
   ],
   "source": [
    "X_test_scaled"
   ]
  },
  {
   "cell_type": "markdown",
   "id": "6b32c753",
   "metadata": {},
   "source": [
    "# Model Building"
   ]
  },
  {
   "cell_type": "code",
   "execution_count": 62,
   "id": "c2af5127",
   "metadata": {},
   "outputs": [
    {
     "data": {
      "text/html": [
       "<style>#sk-container-id-1 {color: black;background-color: white;}#sk-container-id-1 pre{padding: 0;}#sk-container-id-1 div.sk-toggleable {background-color: white;}#sk-container-id-1 label.sk-toggleable__label {cursor: pointer;display: block;width: 100%;margin-bottom: 0;padding: 0.3em;box-sizing: border-box;text-align: center;}#sk-container-id-1 label.sk-toggleable__label-arrow:before {content: \"▸\";float: left;margin-right: 0.25em;color: #696969;}#sk-container-id-1 label.sk-toggleable__label-arrow:hover:before {color: black;}#sk-container-id-1 div.sk-estimator:hover label.sk-toggleable__label-arrow:before {color: black;}#sk-container-id-1 div.sk-toggleable__content {max-height: 0;max-width: 0;overflow: hidden;text-align: left;background-color: #f0f8ff;}#sk-container-id-1 div.sk-toggleable__content pre {margin: 0.2em;color: black;border-radius: 0.25em;background-color: #f0f8ff;}#sk-container-id-1 input.sk-toggleable__control:checked~div.sk-toggleable__content {max-height: 200px;max-width: 100%;overflow: auto;}#sk-container-id-1 input.sk-toggleable__control:checked~label.sk-toggleable__label-arrow:before {content: \"▾\";}#sk-container-id-1 div.sk-estimator input.sk-toggleable__control:checked~label.sk-toggleable__label {background-color: #d4ebff;}#sk-container-id-1 div.sk-label input.sk-toggleable__control:checked~label.sk-toggleable__label {background-color: #d4ebff;}#sk-container-id-1 input.sk-hidden--visually {border: 0;clip: rect(1px 1px 1px 1px);clip: rect(1px, 1px, 1px, 1px);height: 1px;margin: -1px;overflow: hidden;padding: 0;position: absolute;width: 1px;}#sk-container-id-1 div.sk-estimator {font-family: monospace;background-color: #f0f8ff;border: 1px dotted black;border-radius: 0.25em;box-sizing: border-box;margin-bottom: 0.5em;}#sk-container-id-1 div.sk-estimator:hover {background-color: #d4ebff;}#sk-container-id-1 div.sk-parallel-item::after {content: \"\";width: 100%;border-bottom: 1px solid gray;flex-grow: 1;}#sk-container-id-1 div.sk-label:hover label.sk-toggleable__label {background-color: #d4ebff;}#sk-container-id-1 div.sk-serial::before {content: \"\";position: absolute;border-left: 1px solid gray;box-sizing: border-box;top: 0;bottom: 0;left: 50%;z-index: 0;}#sk-container-id-1 div.sk-serial {display: flex;flex-direction: column;align-items: center;background-color: white;padding-right: 0.2em;padding-left: 0.2em;position: relative;}#sk-container-id-1 div.sk-item {position: relative;z-index: 1;}#sk-container-id-1 div.sk-parallel {display: flex;align-items: stretch;justify-content: center;background-color: white;position: relative;}#sk-container-id-1 div.sk-item::before, #sk-container-id-1 div.sk-parallel-item::before {content: \"\";position: absolute;border-left: 1px solid gray;box-sizing: border-box;top: 0;bottom: 0;left: 50%;z-index: -1;}#sk-container-id-1 div.sk-parallel-item {display: flex;flex-direction: column;z-index: 1;position: relative;background-color: white;}#sk-container-id-1 div.sk-parallel-item:first-child::after {align-self: flex-end;width: 50%;}#sk-container-id-1 div.sk-parallel-item:last-child::after {align-self: flex-start;width: 50%;}#sk-container-id-1 div.sk-parallel-item:only-child::after {width: 0;}#sk-container-id-1 div.sk-dashed-wrapped {border: 1px dashed gray;margin: 0 0.4em 0.5em 0.4em;box-sizing: border-box;padding-bottom: 0.4em;background-color: white;}#sk-container-id-1 div.sk-label label {font-family: monospace;font-weight: bold;display: inline-block;line-height: 1.2em;}#sk-container-id-1 div.sk-label-container {text-align: center;}#sk-container-id-1 div.sk-container {/* jupyter's `normalize.less` sets `[hidden] { display: none; }` but bootstrap.min.css set `[hidden] { display: none !important; }` so we also need the `!important` here to be able to override the default hidden behavior on the sphinx rendered scikit-learn.org. See: https://github.com/scikit-learn/scikit-learn/issues/21755 */display: inline-block !important;position: relative;}#sk-container-id-1 div.sk-text-repr-fallback {display: none;}</style><div id=\"sk-container-id-1\" class=\"sk-top-container\"><div class=\"sk-text-repr-fallback\"><pre>LogisticRegression()</pre><b>In a Jupyter environment, please rerun this cell to show the HTML representation or trust the notebook. <br />On GitHub, the HTML representation is unable to render, please try loading this page with nbviewer.org.</b></div><div class=\"sk-container\" hidden><div class=\"sk-item\"><div class=\"sk-estimator sk-toggleable\"><input class=\"sk-toggleable__control sk-hidden--visually\" id=\"sk-estimator-id-1\" type=\"checkbox\" checked><label for=\"sk-estimator-id-1\" class=\"sk-toggleable__label sk-toggleable__label-arrow\">LogisticRegression</label><div class=\"sk-toggleable__content\"><pre>LogisticRegression()</pre></div></div></div></div></div>"
      ],
      "text/plain": [
       "LogisticRegression()"
      ]
     },
     "execution_count": 62,
     "metadata": {},
     "output_type": "execute_result"
    }
   ],
   "source": [
    "#Logistic Regression\n",
    "Logistic = LogisticRegression()\n",
    "Logistic.fit(X_train_scaled,y_train)"
   ]
  },
  {
   "cell_type": "code",
   "execution_count": 63,
   "id": "33f5570e",
   "metadata": {},
   "outputs": [
    {
     "name": "stdout",
     "output_type": "stream",
     "text": [
      "intercept value [1.24236416]\n",
      "slope value [[0.28937305 0.41153979 0.02255954 0.14680038 2.56456001 0.93944141\n",
      "  2.72338307 0.12505735]]\n"
     ]
    }
   ],
   "source": [
    "print('intercept value',Logistic.intercept_)\n",
    "print('slope value',Logistic.coef_)"
   ]
  },
  {
   "cell_type": "markdown",
   "id": "03999623",
   "metadata": {},
   "source": [
    "# Evaluating the model"
   ]
  },
  {
   "cell_type": "code",
   "execution_count": 64,
   "id": "33a53f7b",
   "metadata": {},
   "outputs": [
    {
     "name": "stdout",
     "output_type": "stream",
     "text": [
      "Training_score 0.9705882352941176\n",
      "Testing_score 0.9315068493150684\n"
     ]
    }
   ],
   "source": [
    "print('Training_score',Logistic.score(X_train_scaled,y_train))\n",
    "print('Testing_score',Logistic.score(X_test_scaled,y_test))"
   ]
  },
  {
   "cell_type": "code",
   "execution_count": 65,
   "id": "e7e8f5d7",
   "metadata": {},
   "outputs": [
    {
     "data": {
      "text/plain": [
       "array([1, 0, 1, 0, 0, 1, 0, 0, 0, 1, 0, 1, 0, 0, 1, 0, 1, 1, 1, 1, 0, 1,\n",
       "       1, 1, 0, 0, 1, 0, 0, 1, 1, 0, 1, 1, 1, 0, 0, 0, 0, 0, 1, 1, 0, 1,\n",
       "       1, 1, 1, 1, 1, 1, 0, 0, 1, 1, 1, 0, 1, 0, 0, 1, 1, 1, 0, 0, 1, 1,\n",
       "       1, 0, 0, 0, 1, 0, 1])"
      ]
     },
     "execution_count": 65,
     "metadata": {},
     "output_type": "execute_result"
    }
   ],
   "source": [
    "# Predicting the y_test data\n",
    "Logistic.predict = Logistic.predict(X_test_scaled)\n",
    "Logistic.predict"
   ]
  },
  {
   "cell_type": "code",
   "execution_count": 66,
   "id": "c32c68e2",
   "metadata": {},
   "outputs": [
    {
     "name": "stdout",
     "output_type": "stream",
     "text": [
      "Logistic Regression\n",
      "0.9315068493150684\n",
      "              precision    recall  f1-score   support\n",
      "\n",
      "           0       0.97      0.89      0.93        36\n",
      "           1       0.90      0.97      0.94        37\n",
      "\n",
      "    accuracy                           0.93        73\n",
      "   macro avg       0.93      0.93      0.93        73\n",
      "weighted avg       0.93      0.93      0.93        73\n",
      "\n"
     ]
    }
   ],
   "source": [
    "accuracy_score = accuracy_score(y_test,Logistic.predict)\n",
    "Classification_Report = classification_report(y_test,Logistic.predict)\n",
    "\n",
    "print('Logistic Regression')\n",
    "print(accuracy_score)\n",
    "print(Classification_Report)"
   ]
  },
  {
   "cell_type": "code",
   "execution_count": null,
   "id": "c7845a8d",
   "metadata": {},
   "outputs": [],
   "source": []
  },
  {
   "cell_type": "code",
   "execution_count": null,
   "id": "17707541",
   "metadata": {},
   "outputs": [],
   "source": []
  }
 ],
 "metadata": {
  "kernelspec": {
   "display_name": "Python 3 (ipykernel)",
   "language": "python",
   "name": "python3"
  },
  "language_info": {
   "codemirror_mode": {
    "name": "ipython",
    "version": 3
   },
   "file_extension": ".py",
   "mimetype": "text/x-python",
   "name": "python",
   "nbconvert_exporter": "python",
   "pygments_lexer": "ipython3",
   "version": "3.9.12"
  }
 },
 "nbformat": 4,
 "nbformat_minor": 5
}
